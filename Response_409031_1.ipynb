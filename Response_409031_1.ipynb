{
 "cells": [
  {
   "cell_type": "markdown",
   "id": "5b9e92cd",
   "metadata": {
    "deletable": false
   },
   "source": [
    "\n",
    "# Assignment 2 for Course 1MS041\n",
    "Make sure you pass the `# ... Test` cells and\n",
    " submit your solution notebook in the corresponding assignment on the course website. You can submit multiple times before the deadline and your highest score will be used."
   ]
  },
  {
   "cell_type": "markdown",
   "id": "5aec0bfa",
   "metadata": {
    "deletable": false,
    "lx_assignment_number": "2",
    "lx_assignment_type": "ASSIGNMENT",
    "lx_assignment_type2print": "Assignment",
    "lx_problem_cell_type": "PROBLEM",
    "lx_problem_number": "1",
    "lx_problem_points": "8"
   },
   "source": [
    "---\n",
    "## Assignment 2, PROBLEM 1\n",
    "Maximum Points = 8"
   ]
  },
  {
   "cell_type": "markdown",
   "id": "db58f10b",
   "metadata": {
    "deletable": false,
    "lx_assignment_number": "2",
    "lx_assignment_type": "ASSIGNMENT",
    "lx_assignment_type2print": "Assignment",
    "lx_problem_cell_type": "PROBLEM",
    "lx_problem_number": "1",
    "lx_problem_points": "8"
   },
   "source": [
    "\n",
    "A courier company operates a fleet of delivery trucks that make deliveries to different parts of the city. The trucks are equipped with GPS tracking devices that record the location of each truck at regular intervals. The locations are divided into three regions: downtown, the suburbs, and the countryside. The following table shows the probabilities of a truck transitioning between these regions at each time step:\n",
    "\n",
    "| Current region | Probability of transitioning to downtown | Probability of transitioning to the suburbs | Probability of transitioning to the countryside |\n",
    "|----------------|--------------------------------------------|-----------------------------------------------|------------------------------------------------|\n",
    "| Downtown       | 0.3                                      | 0.4                                           | 0.3                                            |\n",
    "| Suburbs        | 0.2                                      | 0.5                                           | 0.3                                            |\n",
    "| Countryside    | 0.4                                      | 0.3                                           | 0.3                                            |\n",
    "\n",
    "1. If a truck is currently in the suburbs, what is the probability that it will be in the downtown region after two time steps? [1.5p]\n",
    "2. If a truck is currently in the suburbs, what is the probability that it will be in the downtown region **the first time** after two time steps? [1.5p]\n",
    "3. Is this Markov chain irreducible? [1.5p]\n",
    "4. What is the stationary distribution? [1.5p]\n",
    "5. Advanced question: What is the expected number of steps until the first time one enters the downtown region having started in the suburbs region. Hint: to get within 1 decimal point, it is enough to compute the probabilities for hitting times below 30. [2p]\n",
    "\n"
   ]
  },
  {
   "cell_type": "code",
   "execution_count": 1,
   "id": "2c601f0f",
   "metadata": {
    "ExecuteTime": {
     "end_time": "2024-10-31T09:04:23.163712Z",
     "start_time": "2024-10-31T09:04:22.896793Z"
    },
    "deletable": false,
    "execution": {
     "iopub.execute_input": "2024-11-04T01:25:45.746024Z",
     "iopub.status.busy": "2024-11-04T01:25:45.744937Z",
     "iopub.status.idle": "2024-11-04T01:25:45.767548Z",
     "shell.execute_reply": "2024-11-04T01:25:45.766118Z"
    },
    "lx_assignment_number": "2",
    "lx_assignment_type": "ASSIGNMENT",
    "lx_assignment_type2print": "Assignment",
    "lx_problem_cell_type": "PROBLEM",
    "lx_problem_number": "1",
    "lx_problem_points": "8"
   },
   "outputs": [],
   "source": [
    "# Part 1\n",
    "\n",
    "# Fill in the answer to part 1 below as a decimal number\n",
    "problem1_p1 = 0.2*0.3 + 0.5*0.2 + 0.3*0.4"
   ]
  },
  {
   "cell_type": "code",
   "execution_count": 2,
   "id": "52a172dc",
   "metadata": {
    "deletable": false,
    "execution": {
     "iopub.execute_input": "2024-11-04T01:25:45.774783Z",
     "iopub.status.busy": "2024-11-04T01:25:45.774160Z",
     "iopub.status.idle": "2024-11-04T01:25:45.780171Z",
     "shell.execute_reply": "2024-11-04T01:25:45.778911Z"
    },
    "lx_assignment_number": "2",
    "lx_assignment_type": "ASSIGNMENT",
    "lx_assignment_type2print": "Assignment",
    "lx_problem_cell_type": "PROBLEM",
    "lx_problem_number": "1",
    "lx_problem_points": "8"
   },
   "outputs": [],
   "source": [
    "# Part 2\n",
    "\n",
    "# Fill in the answer to part 2 below as a decimal number\n",
    "problem1_p2 = 0.2"
   ]
  },
  {
   "cell_type": "code",
   "execution_count": 3,
   "id": "a3b3872d",
   "metadata": {
    "deletable": false,
    "execution": {
     "iopub.execute_input": "2024-11-04T01:25:45.785098Z",
     "iopub.status.busy": "2024-11-04T01:25:45.784641Z",
     "iopub.status.idle": "2024-11-04T01:25:46.418335Z",
     "shell.execute_reply": "2024-11-04T01:25:46.417494Z"
    },
    "lx_assignment_number": "2",
    "lx_assignment_type": "ASSIGNMENT",
    "lx_assignment_type2print": "Assignment",
    "lx_problem_cell_type": "PROBLEM",
    "lx_problem_number": "1",
    "lx_problem_points": "8"
   },
   "outputs": [
    {
     "ename": "ZeroDivisionError",
     "evalue": "division by zero",
     "output_type": "error",
     "traceback": [
      "\u001b[0;31m---------------------------------------------------------------------------\u001b[0m",
      "\u001b[0;31mZeroDivisionError\u001b[0m                         Traceback (most recent call last)",
      "Input \u001b[0;32mIn [3]\u001b[0m, in \u001b[0;36m<cell line: 4>\u001b[0;34m()\u001b[0m\n\u001b[1;32m      1\u001b[0m \u001b[38;5;66;03m# Part 3\u001b[39;00m\n\u001b[1;32m      2\u001b[0m \n\u001b[1;32m      3\u001b[0m \u001b[38;5;66;03m# Fill in the answer to part 3 below as a boolean\u001b[39;00m\n\u001b[0;32m----> 4\u001b[0m problem1_irreducible \u001b[38;5;241m=\u001b[39m \u001b[38;5;28;43;01mTrue\u001b[39;49;00m\u001b[38;5;241;43m/\u001b[39;49m\u001b[38;5;28;43;01mFalse\u001b[39;49;00m\n",
      "\u001b[0;31mZeroDivisionError\u001b[0m: division by zero"
     ]
    }
   ],
   "source": [
    "# Part 3\n",
    "\n",
    "# Fill in the answer to part 3 below as a boolean\n",
    "problem1_irreducible = True/False"
   ]
  },
  {
   "cell_type": "code",
   "execution_count": 4,
   "id": "1b9d0a00",
   "metadata": {
    "deletable": false,
    "execution": {
     "iopub.execute_input": "2024-11-04T01:25:46.422986Z",
     "iopub.status.busy": "2024-11-04T01:25:46.422586Z",
     "iopub.status.idle": "2024-11-04T01:25:46.440819Z",
     "shell.execute_reply": "2024-11-04T01:25:46.439936Z"
    },
    "lx_assignment_number": "2",
    "lx_assignment_type": "ASSIGNMENT",
    "lx_assignment_type2print": "Assignment",
    "lx_problem_cell_type": "PROBLEM",
    "lx_problem_number": "1",
    "lx_problem_points": "8"
   },
   "outputs": [
    {
     "ename": "NameError",
     "evalue": "name 'XXX' is not defined",
     "output_type": "error",
     "traceback": [
      "\u001b[0;31m---------------------------------------------------------------------------\u001b[0m",
      "\u001b[0;31mNameError\u001b[0m                                 Traceback (most recent call last)",
      "Input \u001b[0;32mIn [4]\u001b[0m, in \u001b[0;36m<cell line: 6>\u001b[0;34m()\u001b[0m\n\u001b[1;32m      1\u001b[0m \u001b[38;5;66;03m# Part 4\u001b[39;00m\n\u001b[1;32m      2\u001b[0m \n\u001b[1;32m      3\u001b[0m \u001b[38;5;66;03m# Fill in the answer to part 4 below\u001b[39;00m\n\u001b[1;32m      4\u001b[0m \u001b[38;5;66;03m# the answer should be a numpy array of length 3\u001b[39;00m\n\u001b[1;32m      5\u001b[0m \u001b[38;5;66;03m# make sure that the entries sums to 1!\u001b[39;00m\n\u001b[0;32m----> 6\u001b[0m problem1_stationary \u001b[38;5;241m=\u001b[39m \u001b[43mXXX\u001b[49m\n",
      "\u001b[0;31mNameError\u001b[0m: name 'XXX' is not defined"
     ]
    }
   ],
   "source": [
    "# Part 4\n",
    "\n",
    "# Fill in the answer to part 4 below\n",
    "# the answer should be a numpy array of length 3\n",
    "# make sure that the entries sums to 1!\n",
    "problem1_stationary = XXX"
   ]
  },
  {
   "cell_type": "code",
   "execution_count": 5,
   "id": "481625e3",
   "metadata": {
    "deletable": false,
    "execution": {
     "iopub.execute_input": "2024-11-04T01:25:46.445265Z",
     "iopub.status.busy": "2024-11-04T01:25:46.444856Z",
     "iopub.status.idle": "2024-11-04T01:25:46.462983Z",
     "shell.execute_reply": "2024-11-04T01:25:46.462109Z"
    },
    "lx_assignment_number": "2",
    "lx_assignment_type": "ASSIGNMENT",
    "lx_assignment_type2print": "Assignment",
    "lx_problem_cell_type": "PROBLEM",
    "lx_problem_number": "1",
    "lx_problem_points": "8"
   },
   "outputs": [
    {
     "ename": "NameError",
     "evalue": "name 'XXX' is not defined",
     "output_type": "error",
     "traceback": [
      "\u001b[0;31m---------------------------------------------------------------------------\u001b[0m",
      "\u001b[0;31mNameError\u001b[0m                                 Traceback (most recent call last)",
      "Input \u001b[0;32mIn [5]\u001b[0m, in \u001b[0;36m<cell line: 5>\u001b[0;34m()\u001b[0m\n\u001b[1;32m      1\u001b[0m \u001b[38;5;66;03m# Part 5\u001b[39;00m\n\u001b[1;32m      2\u001b[0m \n\u001b[1;32m      3\u001b[0m \u001b[38;5;66;03m# Fill in the answer to part 5 below\u001b[39;00m\n\u001b[1;32m      4\u001b[0m \u001b[38;5;66;03m# That is, the expected number of steps as a decimal number\u001b[39;00m\n\u001b[0;32m----> 5\u001b[0m problem1_ET \u001b[38;5;241m=\u001b[39m \u001b[43mXXX\u001b[49m\n",
      "\u001b[0;31mNameError\u001b[0m: name 'XXX' is not defined"
     ]
    }
   ],
   "source": [
    "# Part 5\n",
    "\n",
    "# Fill in the answer to part 5 below\n",
    "# That is, the expected number of steps as a decimal number\n",
    "problem1_ET = XXX"
   ]
  },
  {
   "cell_type": "code",
   "execution_count": 6,
   "id": "ac9ec6d2",
   "metadata": {
    "deletable": false,
    "execution": {
     "iopub.execute_input": "2024-11-04T01:25:46.467403Z",
     "iopub.status.busy": "2024-11-04T01:25:46.467044Z",
     "iopub.status.idle": "2024-11-04T01:25:46.625497Z",
     "shell.execute_reply": "2024-11-04T01:25:46.624506Z"
    },
    "lx_assignment_number": "2",
    "lx_assignment_type": "ASSIGNMENT",
    "lx_assignment_type2print": "Assignment",
    "lx_problem_cell_type": "TEST",
    "lx_problem_number": "1",
    "lx_problem_points": "8",
    "lx_test_only": "True"
   },
   "outputs": [
    {
     "name": "stdout",
     "output_type": "stream",
     "text": [
      "Beginning tests for problem 1\n",
      "\n",
      "---------------------------------\n",
      "Beginning test for part1\n",
      "---------------------------------\n",
      "\n",
      "-----Beginning test------\n",
      "Your probability is correct!\n",
      "-----Ending test---------\n",
      "\n",
      "---------------------------------\n",
      "Beginning test for part2\n",
      "---------------------------------\n",
      "\n",
      "-----Beginning test------\n",
      "\n",
      "Your probability deviated more than 0.01 from 0.21\n",
      "You got 1.5 points deduction \n",
      "-----Ending test---------\n",
      "\n",
      "---------------------------------\n",
      "Beginning test for part3\n",
      "---------------------------------\n",
      "\n",
      "-----Beginning test------\n",
      "name 'problem1_irreducible' is not defined\n",
      "Your answer is incorrect\n",
      "You got 1.5 points deduction \n",
      "-----Ending test---------\n",
      "\n",
      "---------------------------------\n",
      "Beginning test for part4\n",
      "---------------------------------\n",
      "\n",
      "-----Beginning test------\n",
      "name 'problem1_stationary' is not defined\n",
      "Your stationary distribution is not within distance 0.01 from the true stationary distribution\n",
      "You got 1.5 points deduction \n",
      "-----Ending test---------\n",
      "\n",
      "---------------------------------\n",
      "Beginning test for part5\n",
      "---------------------------------\n",
      "\n",
      "-----Beginning test------\n",
      "name 'problem1_ET' is not defined\n",
      "You are not within 0.05 from the actual answer which is roughly 3\n",
      "You got 2.0 points deduction \n",
      "-----Ending test---------\n",
      "\n",
      "\n",
      "All tests complete, you got = 2 points\n",
      "The number of points you have scored for this problem is 2 out of 8\n",
      "The number of points you have accumulated thus far is   2 out of 8\n"
     ]
    }
   ],
   "source": [
    "# ASSIGNMENT 2, TEST 1, POINTS 8"
   ]
  },
  {
   "cell_type": "markdown",
   "id": "215a4c8b",
   "metadata": {
    "deletable": false,
    "lx_assignment_number": "2",
    "lx_assignment_type": "ASSIGNMENT",
    "lx_assignment_type2print": "Assignment",
    "lx_problem_cell_type": "PROBLEM",
    "lx_problem_number": "2",
    "lx_problem_points": "4"
   },
   "source": [
    "---\n",
    "## Assignment 2, PROBLEM 2\n",
    "Maximum Points = 4"
   ]
  },
  {
   "cell_type": "markdown",
   "id": "d9a825d1",
   "metadata": {
    "deletable": false,
    "lx_assignment_number": "2",
    "lx_assignment_type": "ASSIGNMENT",
    "lx_assignment_type2print": "Assignment",
    "lx_problem_cell_type": "PROBLEM",
    "lx_problem_number": "2",
    "lx_problem_points": "4"
   },
   "source": [
    "\n",
    "Use the **Multi-dimensional Constrained Optimisation** example (in `07-Optimization.ipynb`) to numerically find the MLe for the mean and variance parameter based on `normallySimulatedDataSamples`, an array obtained by a specific simulation of $30$ IID samples from the $Normal(10,2)$ random variable.\n",
    "\n",
    "Recall that $Normal(\\mu, \\sigma^2)$ RV has the probability density function given by:\n",
    "\n",
    "$$\n",
    "f(x ;\\mu, \\sigma) = \\displaystyle\\frac{1}{\\sigma\\sqrt{2\\pi}}\\exp\\left(\\frac{-1}{2\\sigma^2}(x-\\mu)^2\\right)\n",
    "$$\n",
    "\n",
    "The two parameters, $\\mu \\in \\mathbb{R} := (-\\infty,\\infty)$ and $\\sigma \\in (0,\\infty)$, are sometimes referred to as the location and scale parameters.\n",
    "\n",
    "You know that the log likelihood function for $n$ IID samples from a Normal RV with parameters $\\mu$ and $\\sigma$ simply follows from $\\sum_{i=1}^n \\log(f(x_i; \\mu,\\sigma))$, based on the IID assumption. \n",
    "\n",
    "NOTE: When setting bounding boxes for $\\mu$ and $\\sigma$ try to start with some guesses like $[-20,20]$ and $[0.1,5.0]$ and make it larger if the solution is at the boundary. Making the left bounding-point for $\\sigma$ too close to $0.0$ will cause division by zero Warnings. Other numerical instabilities can happen in such iterative numerical solutions to the MLe. You need to be patient and learn by trial-and-error. You will see the mathematical theory in more details in a future course in scientific computing/optimisation. So don't worry too much now except learning to use it for our problems.  "
   ]
  },
  {
   "cell_type": "code",
   "execution_count": 7,
   "id": "699b52ca",
   "metadata": {
    "deletable": false,
    "execution": {
     "iopub.execute_input": "2024-11-04T01:25:46.630359Z",
     "iopub.status.busy": "2024-11-04T01:25:46.629674Z",
     "iopub.status.idle": "2024-11-04T01:25:46.777586Z",
     "shell.execute_reply": "2024-11-04T01:25:46.776703Z"
    },
    "lx_assignment_number": "2",
    "lx_assignment_type": "ASSIGNMENT",
    "lx_assignment_type2print": "Assignment",
    "lx_problem_cell_type": "PROBLEM",
    "lx_problem_number": "2",
    "lx_problem_points": "4"
   },
   "outputs": [
    {
     "data": {
      "text/plain": [
       "      fun: 58.63138728313343\n",
       " hess_inv: <2x2 LbfgsInvHessProduct with dtype=float64>\n",
       "      jac: array([-1.20081712e-04,  4.97379918e-05])\n",
       "  message: 'CONVERGENCE: REL_REDUCTION_OF_F_<=_FACTR*EPSMCH'\n",
       "     nfev: 51\n",
       "      nit: 10\n",
       "     njev: 17\n",
       "   status: 0\n",
       "  success: True\n",
       "        x: array([9.26860789, 1.70820388])"
      ]
     },
     "execution_count": 7,
     "metadata": {},
     "output_type": "execute_result"
    }
   ],
   "source": [
    "\n",
    "import numpy as np\n",
    "from scipy import optimize\n",
    "# do NOT change the next three lines\n",
    "np.random.seed(123456) # set seed\n",
    "# simulate 30 IID samples drawn from Normal(10,2)RV\n",
    "normallySimulatedDataSamples = np.random.normal(10,2,30) \n",
    "\n",
    "# define the negative log likelihoo function you want to minimise by editing XXX\n",
    "def negLogLklOfIIDNormalSamples(parameters):\n",
    "    '''return the -log(likelihood) of normallySimulatedDataSamples with mean and var parameters'''\n",
    "    try:\n",
    "        mu_param=parameters[0]\n",
    "        sigma_param=parameters[1]\n",
    "        pdf = lambda x: (1/(sigma_param*np.sqrt(2*np.pi)))*np.exp(-0.5*((x-mu_param)/sigma_param)**2)\n",
    "        log_pdf = lambda x: np.log(pdf(x))\n",
    "        return -np.sum(log_pdf(normallySimulatedDataSamples))\n",
    "    except RuntimeWarning:\n",
    "        print(pdf(normallySimulatedDataSamples))\n",
    "\n",
    "# you should only change XXX below and not anything else\n",
    "parameter_bounding_box=((-20, 20), (.5, 5)) # specify the constraints for each parameter - some guess work...\n",
    "initial_arguments = np.array([2, 1]) # point in 2D to initialise the minimize algorithm\n",
    "result_problem2_opt = optimize.minimize(negLogLklOfIIDNormalSamples, initial_arguments, bounds=parameter_bounding_box) \n",
    "# call the minimize method above finally! you need to play a bit to get initial conditions and bounding box ok\n",
    "result_problem2_opt\n"
   ]
  },
  {
   "cell_type": "code",
   "execution_count": 8,
   "id": "8b4dac71",
   "metadata": {
    "deletable": false,
    "execution": {
     "iopub.execute_input": "2024-11-04T01:25:46.782173Z",
     "iopub.status.busy": "2024-11-04T01:25:46.781771Z",
     "iopub.status.idle": "2024-11-04T01:25:46.795637Z",
     "shell.execute_reply": "2024-11-04T01:25:46.794753Z"
    },
    "lx_assignment_number": "2",
    "lx_assignment_type": "ASSIGNMENT",
    "lx_assignment_type2print": "Assignment",
    "lx_problem_cell_type": "TEST",
    "lx_problem_number": "2",
    "lx_problem_points": "4",
    "lx_test_only": "True"
   },
   "outputs": [
    {
     "name": "stdout",
     "output_type": "stream",
     "text": [
      "Beginning tests for problem 2\n",
      "\n",
      "---------------------------------\n",
      "Beginning test for part1\n",
      "---------------------------------\n",
      "\n",
      "-----Beginning test------\n",
      "Your negative log likelihood is correct on the first hidden test sample\n",
      "-----Ending test---------\n",
      "\n",
      "-----Beginning test------\n",
      "Your negative log likelihood is correct on the second hidden test sample\n",
      "-----Ending test---------\n",
      "\n",
      "---------------------------------\n",
      "Beginning test for part2\n",
      "---------------------------------\n",
      "\n",
      "-----Beginning test------\n",
      "Your optimization converged\n",
      "-----Ending test---------\n",
      "\n",
      "-----Beginning test------\n",
      "Your MLE for the mean is correct\n",
      "-----Ending test---------\n",
      "\n",
      "-----Beginning test------\n",
      "Your MLE for the variance is correct\n",
      "-----Ending test---------\n",
      "\n",
      "\n",
      "All tests complete, you got = 4 points\n",
      "The number of points you have scored for this problem is 4 out of 4\n",
      "The number of points you have accumulated thus far is   6 out of 12\n"
     ]
    }
   ],
   "source": [
    "# ASSIGNMENT 2, TEST 2, POINTS 4"
   ]
  },
  {
   "cell_type": "markdown",
   "id": "f722d247",
   "metadata": {
    "deletable": false,
    "lx_assignment_number": "2",
    "lx_assignment_type": "ASSIGNMENT",
    "lx_assignment_type2print": "Assignment",
    "lx_problem_cell_type": "PROBLEM",
    "lx_problem_number": "3",
    "lx_problem_points": "4"
   },
   "source": [
    "---\n",
    "## Assignment 2, PROBLEM 3\n",
    "Maximum Points = 4"
   ]
  },
  {
   "cell_type": "markdown",
   "id": "0b9c787c",
   "metadata": {
    "deletable": false,
    "lx_assignment_number": "2",
    "lx_assignment_type": "ASSIGNMENT",
    "lx_assignment_type2print": "Assignment",
    "lx_problem_cell_type": "PROBLEM",
    "lx_problem_number": "3",
    "lx_problem_points": "4"
   },
   "source": [
    "\n",
    "\n",
    "Derive the maximum likelihood estimate for $n$ IID samples from a random variable with the following probability density function:\n",
    "$$\n",
    "f(x; \\lambda) = \\frac{1}{24} \\lambda^5 x^4 \\exp(-\\lambda x), \\qquad \\text{ where, } \\lambda>0, x > 0\n",
    "$$\n",
    "\n",
    "You can solve the MLe by hand (using pencil paper or using key-strokes). Present your solution as the return value of a function called `def MLeForAssignment2Problem3(x)`, where `x` is a list of $n$ input data points."
   ]
  },
  {
   "cell_type": "code",
   "execution_count": 9,
   "id": "41720f28",
   "metadata": {
    "deletable": false,
    "execution": {
     "iopub.execute_input": "2024-11-04T01:25:46.799482Z",
     "iopub.status.busy": "2024-11-04T01:25:46.799142Z",
     "iopub.status.idle": "2024-11-04T01:25:46.807931Z",
     "shell.execute_reply": "2024-11-04T01:25:46.807052Z"
    },
    "lx_assignment_number": "2",
    "lx_assignment_type": "ASSIGNMENT",
    "lx_assignment_type2print": "Assignment",
    "lx_problem_cell_type": "PROBLEM",
    "lx_problem_number": "3",
    "lx_problem_points": "4"
   },
   "outputs": [],
   "source": [
    "\n",
    "# do not change the name of the function, just replace XXX with the appropriate expressions for the MLe\n",
    "def MLeForAssignment2Problem3(x):\n",
    "    '''\n",
    "    This function calculates the MLE for a list of samples x from our distribution.\n",
    "\n",
    "    This function includes two parts:\n",
    "    1. Provide a symbolic solution for the MLE of the parameter lambda of our distribution\n",
    "    2. Calculate the MLE for the given samples x\n",
    "\n",
    "    This function is capable of calculating the MLE for any distribution that sympy can find a symbolic solution for.\n",
    "    '''\n",
    "    import numpy as np\n",
    "    import sympy as sp\n",
    "    import copy\n",
    "\n",
    "    # Define the symbolic variables\n",
    "    x_sym = sp.IndexedBase('x',positive=True, real=True)\n",
    "    n_sym = sp.symbols('n', integer=True, positive=True)\n",
    "    i_sym = sp.Idx('i')\n",
    "    lam = sp.symbols('lambda', real=True, positive=True)\n",
    "\n",
    "    # Define the symbolic expression for the pdf\n",
    "    pdf = 1/24*lam**5*x_sym[i_sym]**4*sp.exp(-lam*x_sym[i_sym])\n",
    "\n",
    "    # Derive the log likelihood function \n",
    "    log_pdf = sp.log(pdf).simplify()\n",
    "    log_likelihood = sp.Sum(log_pdf, (i_sym,0, n_sym-1)).simplify()\n",
    "\n",
    "    # Calculate the derivative of the log likelihood\n",
    "    derivative = log_likelihood.diff(lam).simplify()\n",
    "\n",
    "    # Solve the derivative for lambda\n",
    "    solution = sp.solve(derivative, lam)[0]\n",
    "\n",
    "    # Calculate the MLE for the given samples x\n",
    "    n = len(x)\n",
    "\n",
    "    # Convert the solution to a numpy function\n",
    "    solution_copy = copy.deepcopy(solution).subs(n_sym, n).doit()\n",
    "    numpy_function = sp.lambdify([x_sym], solution_copy, 'numpy')\n",
    "    return numpy_function(x)"
   ]
  },
  {
   "cell_type": "code",
   "execution_count": 10,
   "id": "702bf76b",
   "metadata": {
    "deletable": false,
    "execution": {
     "iopub.execute_input": "2024-11-04T01:25:46.811652Z",
     "iopub.status.busy": "2024-11-04T01:25:46.811322Z",
     "iopub.status.idle": "2024-11-04T01:25:48.029768Z",
     "shell.execute_reply": "2024-11-04T01:25:48.028852Z"
    },
    "lx_assignment_number": "2",
    "lx_assignment_type": "ASSIGNMENT",
    "lx_assignment_type2print": "Assignment",
    "lx_problem_cell_type": "TEST",
    "lx_problem_number": "3",
    "lx_problem_points": "4",
    "lx_test_only": "True"
   },
   "outputs": [
    {
     "name": "stdout",
     "output_type": "stream",
     "text": [
      "Beginning tests for problem 2\n",
      "\n",
      "---------------------------------\n",
      "Beginning test for part1\n",
      "---------------------------------\n",
      "\n",
      "-----Beginning test------\n",
      "Your MLE is correct on a hidden test sample\n",
      "-----Ending test---------\n",
      "\n",
      "---------------------------------\n",
      "Beginning test for part2\n",
      "---------------------------------\n",
      "\n",
      "-----Beginning test------\n",
      "Your MLE is correct on a hidden test sample\n",
      "-----Ending test---------\n",
      "\n",
      "\n",
      "All tests complete, you got = 4 points\n",
      "The number of points you have scored for this problem is 4 out of 4\n",
      "The number of points you have accumulated thus far is   10 out of 16\n"
     ]
    }
   ],
   "source": [
    "# ASSIGNMENT 2, TEST 2, POINTS 4"
   ]
  },
  {
   "cell_type": "markdown",
   "id": "85367892",
   "metadata": {
    "deletable": false,
    "lx_assignment_number": "2",
    "lx_assignment_type": "ASSIGNMENT",
    "lx_assignment_type2print": "Assignment",
    "lx_problem_cell_type": "PROBLEM",
    "lx_problem_number": "4",
    "lx_problem_points": "8"
   },
   "source": [
    "---\n",
    "## Assignment 2, PROBLEM 4\n",
    "Maximum Points = 8"
   ]
  },
  {
   "cell_type": "markdown",
   "id": "2e67892b",
   "metadata": {
    "deletable": false,
    "lx_assignment_number": "2",
    "lx_assignment_type": "ASSIGNMENT",
    "lx_assignment_type2print": "Assignment",
    "lx_problem_cell_type": "PROBLEM",
    "lx_problem_number": "4",
    "lx_problem_points": "8"
   },
   "source": [
    "\n",
    "## Random variable generation and transformation\n",
    "\n",
    "The purpose of this problem is to show that you can implement your own sampler, this will be built in the following three steps:\n",
    "\n",
    "1. [2p] Implement a Linear Congruential Generator where you tested out a good combination (a large $M$ with $a,b$ satisfying the Hull-Dobell (Thm 6.8)) of parameters. Follow the instructions in the code block.\n",
    "2. [2p] Using a generator construct random numbers from the uniform $[0,1]$ distribution.\n",
    "3. [4p] Using a uniform $[0,1]$ random generator, generate samples from \n",
    "\n",
    "$$p_0(x) = \\frac{\\pi}{2}|\\sin(2\\pi x)|, \\quad x \\in [0,1] \\enspace .$$\n",
    "\n",
    "Using the **Accept-Reject** sampler (**Algorithm 1** in TFDS notes) with sampling density given by the uniform $[0,1]$ distribution."
   ]
  },
  {
   "cell_type": "code",
   "execution_count": 11,
   "id": "530446bc",
   "metadata": {
    "deletable": false,
    "execution": {
     "iopub.execute_input": "2024-11-04T01:25:48.034364Z",
     "iopub.status.busy": "2024-11-04T01:25:48.033966Z",
     "iopub.status.idle": "2024-11-04T01:25:48.042229Z",
     "shell.execute_reply": "2024-11-04T01:25:48.041325Z"
    },
    "lx_assignment_number": "2",
    "lx_assignment_type": "ASSIGNMENT",
    "lx_assignment_type2print": "Assignment",
    "lx_problem_cell_type": "PROBLEM",
    "lx_problem_number": "4",
    "lx_problem_points": "8"
   },
   "outputs": [],
   "source": [
    "\n",
    "import sympy as sp\n",
    "\n",
    "m = 2**31\n",
    "a = 1103515245\n",
    "b = 12345\n",
    "\n",
    "assert sp.gcd(b, m) == 1, \"b and M must be coprime\"\n",
    "assert set(sp.primefactors(a-1)).issuperset(sp.primefactors(m)), \"a-1 must be divisible by all prime factors of M\"\n",
    "assert (m % 4 != 0) or (a-1) % 4 == 0, \"If M is divisible by 4, then a-1 must be divisible by 4\"\n",
    "\n",
    "def problem4_LCG(size=None, seed = 0):\n",
    "    \"\"\"\n",
    "    A linear congruential generator that generates pseudo random numbers according to size.\n",
    "    \n",
    "    Parameters\n",
    "    -------------\n",
    "    size : an integer denoting how many samples should be produced\n",
    "    seed : the starting point of the LCG, i.e. u0 in the notes.\n",
    "    \n",
    "    Returns\n",
    "    -------------\n",
    "    out : a list of the pseudo random numbers\n",
    "    \"\"\"\n",
    "    import copy\n",
    "\n",
    "    samples = []\n",
    "    u = copy.copy(seed)\n",
    "    for i in range(size):\n",
    "        u = (a * u + b) % m\n",
    "        samples.append(u)\n",
    "    return samples"
   ]
  },
  {
   "cell_type": "code",
   "execution_count": 12,
   "id": "8d215c5a",
   "metadata": {
    "deletable": false,
    "execution": {
     "iopub.execute_input": "2024-11-04T01:25:48.045959Z",
     "iopub.status.busy": "2024-11-04T01:25:48.045629Z",
     "iopub.status.idle": "2024-11-04T01:25:48.052709Z",
     "shell.execute_reply": "2024-11-04T01:25:48.051840Z"
    },
    "lx_assignment_number": "2",
    "lx_assignment_type": "ASSIGNMENT",
    "lx_assignment_type2print": "Assignment",
    "lx_problem_cell_type": "PROBLEM",
    "lx_problem_number": "4",
    "lx_problem_points": "8"
   },
   "outputs": [],
   "source": [
    "\n",
    "def problem4_uniform(generator=None, period = 1, size=None, seed=0):\n",
    "    \"\"\"\n",
    "    Takes a generator and produces samples from the uniform [0,1] distribution according\n",
    "    to size.\n",
    "    \n",
    "    Parameters\n",
    "    -------------\n",
    "    generator : a function of type generator(size,seed) and produces the same result as problem1_LCG, i.e. pseudo random numbers in the range {0,1,...,period-1}\n",
    "    period : the period of the generator\n",
    "    seed : the seed to be used in the generator provided\n",
    "    size : an integer denoting how many samples should be produced\n",
    "    \n",
    "    Returns\n",
    "    --------------\n",
    "    out : a list of the uniform pseudo random numbers\n",
    "    \"\"\"\n",
    "    if generator is None:\n",
    "        generator = problem4_LCG\n",
    "    integer_samples = generator(size, seed)\n",
    "    return [sample/m for sample in integer_samples]\n",
    "    "
   ]
  },
  {
   "cell_type": "code",
   "execution_count": 13,
   "id": "15832284",
   "metadata": {
    "deletable": false,
    "execution": {
     "iopub.execute_input": "2024-11-04T01:25:48.057150Z",
     "iopub.status.busy": "2024-11-04T01:25:48.056747Z",
     "iopub.status.idle": "2024-11-04T01:25:48.064980Z",
     "shell.execute_reply": "2024-11-04T01:25:48.064100Z"
    },
    "lx_assignment_number": "2",
    "lx_assignment_type": "ASSIGNMENT",
    "lx_assignment_type2print": "Assignment",
    "lx_problem_cell_type": "PROBLEM",
    "lx_problem_number": "4",
    "lx_problem_points": "8"
   },
   "outputs": [],
   "source": [
    "\n",
    "def problem4_accept_reject(uniformGenerator=None, n_iterations=None, seed=0):\n",
    "    \"\"\"\n",
    "    Takes a generator that produces uniform pseudo random [0,1] numbers \n",
    "    and produces samples from (pi/2)*abs(sin(x*2*pi)) using an Accept-Reject\n",
    "    sampler with the uniform distribution as the proposal distribution.\n",
    "    Runs n_iterations\n",
    "    \n",
    "    Parameters\n",
    "    -------------\n",
    "    generator : a function of the type generator(size,seed) that produces uniform pseudo random\n",
    "    numbers from [0,1]\n",
    "    seed : the seed to be used in the generator provided\n",
    "    n_iterations : an integer denoting how many attempts should be made in the accept-reject sampler\n",
    "    \n",
    "    Returns\n",
    "    --------------\n",
    "    out : a list of the pseudo random numbers with the specified distribution\n",
    "    \"\"\"\n",
    "    import math\n",
    "\n",
    "    samples = []\n",
    "    pdf = lambda x :(math.pi/2)*abs(math.sin(x*2*math.pi))\n",
    "    g_samples = uniformGenerator(size=n_iterations, seed=seed)\n",
    "    u = uniformGenerator(size=n_iterations, seed=seed+1)\n",
    "    while len(samples) < n_iterations:\n",
    "        for i in range(n_iterations):\n",
    "            if u[i] <= pdf(g_samples[i])/(math.pi/2):\n",
    "                samples.append(g_samples[i])\n",
    "        if len(samples) < n_iterations:\n",
    "            seed += 2\n",
    "            g_samples = uniformGenerator(size=n_iterations,seed=seed)\n",
    "            u = uniformGenerator(size=n_iterations,seed=seed+1)\n",
    "    return samples"
   ]
  },
  {
   "cell_type": "markdown",
   "id": "8dbf40a0",
   "metadata": {
    "deletable": false,
    "lx_assignment_number": "2",
    "lx_assignment_type": "ASSIGNMENT",
    "lx_assignment_type2print": "Assignment",
    "lx_problem_cell_type": "Test",
    "lx_problem_number": "4",
    "lx_problem_points": "8"
   },
   "source": [
    "---\n",
    "#### Local Test for Assignment 2, PROBLEM 4\n",
    "Evaluate cell below to make sure your answer is valid.                             You **should not** modify anything in the cell below when evaluating it to do a local test of                             your solution.\n",
    "You may need to include and evaluate code snippets from lecture notebooks in cells above to make the local test work correctly sometimes (see error messages for clues). This is meant to help you become efficient at recalling materials covered in lectures that relate to this problem. Such local tests will generally not be available in the exam."
   ]
  },
  {
   "cell_type": "code",
   "execution_count": 14,
   "id": "26cd1592",
   "metadata": {
    "deletable": false,
    "execution": {
     "iopub.execute_input": "2024-11-04T01:25:48.069453Z",
     "iopub.status.busy": "2024-11-04T01:25:48.069124Z",
     "iopub.status.idle": "2024-11-04T01:25:48.076124Z",
     "shell.execute_reply": "2024-11-04T01:25:48.075227Z"
    },
    "lx_assignment_number": "2",
    "lx_assignment_type": "ASSIGNMENT",
    "lx_assignment_type2print": "Assignment",
    "lx_problem_cell_type": "Test",
    "lx_problem_number": "4",
    "lx_problem_points": "8"
   },
   "outputs": [
    {
     "name": "stdout",
     "output_type": "stream",
     "text": [
      "LCG output: [1103527590, 377401575, 662824084, 1147902781, 2035015474, 368800899, 1508029952, 486256185, 1062517886, 267834847]\n",
      "Uniform sampler [0.5138700781390071, 0.1757413032464683, 0.3086515162140131, 0.5345338867045939, 0.9476279253140092, 0.17173630138859153, 0.7022311687469482, 0.2264306810684502, 0.49477344658225775, 0.12472031963989139]\n",
      "Accept-Reject sampler [0.5138700781390071, 0.1757413032464683, 0.3086515162140131, 0.17173630138859153, 0.7022311687469482, 0.2264306810684502, 0.2772257970646024, 0.3680707192979753, 0.7656819028779864, 0.6464731502346694, 0.7671388108283281, 0.7802369208075106, 0.5415987372398376, 0.21691581280902028, 0.3163259020075202, 0.25368039263412356, 0.6293468084186316, 0.12736082542687654, 0.4743476486764848, 0.7444108240306377, 0.8608268429525197, 0.5177714037708938, 0.6632502535358071, 0.32142313569784164, 0.33827771665528417, 0.37290223594754934, 0.2627134690992534]\n"
     ]
    }
   ],
   "source": [
    "\n",
    "# If you managed to solve all three parts you can test the following code to see if it runs\n",
    "# you have to change the period to match your LCG though, this is marked as XXX.\n",
    "# It is a very good idea to check these things using the histogram function in sagemath\n",
    "# try with a larger number of samples, up to 10000 should run\n",
    "\n",
    "print(\"LCG output: %s\" % problem4_LCG(size=10, seed = 1))\n",
    "\n",
    "period = m\n",
    "\n",
    "print(\"Uniform sampler %s\" % problem4_uniform(generator=problem4_LCG, period = period, size=10, seed=1))\n",
    "\n",
    "uniform_sampler = lambda size,seed: problem4_uniform(generator=problem4_LCG, period = period, size=size, seed=seed)\n",
    "\n",
    "print(\"Accept-Reject sampler %s\" % problem4_accept_reject(uniformGenerator = uniform_sampler,n_iterations=20,seed=1))"
   ]
  },
  {
   "cell_type": "code",
   "execution_count": 15,
   "id": "5318f370",
   "metadata": {
    "deletable": false,
    "execution": {
     "iopub.execute_input": "2024-11-04T01:25:48.080582Z",
     "iopub.status.busy": "2024-11-04T01:25:48.080217Z",
     "iopub.status.idle": "2024-11-04T01:25:48.086080Z",
     "shell.execute_reply": "2024-11-04T01:25:48.085281Z"
    },
    "lx_assignment_number": "2",
    "lx_assignment_type": "ASSIGNMENT",
    "lx_assignment_type2print": "Assignment",
    "lx_problem_cell_type": "Test",
    "lx_problem_number": "4",
    "lx_problem_points": "8"
   },
   "outputs": [
    {
     "name": "stdout",
     "output_type": "stream",
     "text": [
      "Accept-Reject sampler [0.763774618976614, 0.2550690257394217, 0.651592972722763, 0.7887233511355132, 0.8357651039198697, 0.43276706790505337, 0.762280082457942, 0.22876222127045265, 0.9014274576114836, 0.23796462709189137, 0.5442292252959519, 0.36995516654807925, 0.6039200385961945, 0.625720304108054, 0.83746908209646, 0.25935401432800764, 0.23433096104669637, 0.8364614512743888, 0.47635320869933495, 0.6390681405441619, 0.7412518562014903]\n"
     ]
    }
   ],
   "source": [
    "\n",
    "# If however you did not manage to implement either part 1 or part 2 but still want to check part 3, you can run the code below\n",
    "\n",
    "def testUniformGenerator(size,seed):\n",
    "    import random\n",
    "    random.seed(seed)\n",
    "    \n",
    "    return [random.uniform(0,1) for s in range(size)]\n",
    "\n",
    "print(\"Accept-Reject sampler %s\" % problem4_accept_reject(uniformGenerator=testUniformGenerator, n_iterations=20, seed=1))"
   ]
  },
  {
   "cell_type": "code",
   "execution_count": 16,
   "id": "ab5d5cd3",
   "metadata": {
    "deletable": false,
    "execution": {
     "iopub.execute_input": "2024-11-04T01:25:48.091195Z",
     "iopub.status.busy": "2024-11-04T01:25:48.090814Z",
     "iopub.status.idle": "2024-11-04T01:25:49.593280Z",
     "shell.execute_reply": "2024-11-04T01:25:49.592377Z"
    },
    "lx_assignment_number": "2",
    "lx_assignment_type": "ASSIGNMENT",
    "lx_assignment_type2print": "Assignment",
    "lx_problem_cell_type": "TEST",
    "lx_problem_number": "4",
    "lx_problem_points": "8",
    "lx_test_only": "True",
    "scrolled": true
   },
   "outputs": [
    {
     "data": {
      "image/png": "[encoded data removed]",
      "text/plain": [
       "<Figure size 432x288 with 1 Axes>"
      ]
     },
     "metadata": {
      "needs_background": "light"
     },
     "output_type": "display_data"
    },
    {
     "data": {
      "image/png": "[encoded data removed]",
      "text/plain": [
       "<Figure size 432x288 with 1 Axes>"
      ]
     },
     "metadata": {
      "needs_background": "light"
     },
     "output_type": "display_data"
    },
    {
     "name": "stdout",
     "output_type": "stream",
     "text": [
      "Beginning tests for problem 3\n",
      "\n",
      "---------------------------------\n",
      "Beginning test for part1\n",
      "---------------------------------\n",
      "\n",
      "-----Beginning test------\n",
      "LCG outputs correct size\n",
      "-----Ending test---------\n",
      "\n",
      "-----Beginning test------\n",
      "Your period is at least longer than 1000\n",
      "-----Ending test---------\n",
      "\n",
      "---------------------------------\n",
      "Beginning test for part2\n",
      "---------------------------------\n",
      "\n",
      "-----Beginning test------\n",
      "problem4_uniform outputs correct size\n",
      "-----Ending test---------\n",
      "\n",
      "-----Beginning test------\n",
      "\n",
      "Your uniform sampler does not seem to produce the correct uniform distribution\n",
      "You got 0.5 points deduction \n",
      "-----Ending test---------\n",
      "\n",
      "-----Beginning test------\n",
      "The output of problem4_uniform is greater than 0\n",
      "-----Ending test---------\n",
      "\n",
      "-----Beginning test------\n",
      "The output of problem4_uniform is less than 1\n",
      "-----Ending test---------\n",
      "\n",
      "---------------------------------\n",
      "Beginning test for part3\n",
      "---------------------------------\n",
      "\n",
      "-----Beginning test------\n",
      "The accept-reject sampler runs with your LCG sampler and produces unique results\n",
      "-----Ending test---------\n",
      "\n",
      "-----Beginning test------\n",
      "The accept-reject sampler runs with your LCG sampler and produces numbers between 0 and 1\n",
      "-----Ending test---------\n",
      "\n",
      "-----Beginning test------\n",
      "The accept-reject sampler runs with a plug in sampler and produces numbers between 0 and 1\n",
      "-----Ending test---------\n",
      "\n",
      "-----Beginning test------\n",
      "The accept-reject sampler produces unique results with the plug-in sampler\n",
      "-----Ending test---------\n",
      "\n",
      "-----Beginning test------\n",
      "The accept-reject sampler seems to produce the correct distribution, within tolerance!\n",
      "-----Ending test---------\n",
      "\n",
      "\n",
      "All tests complete, you got = 8 points\n",
      "The number of points you have scored for this problem is 8 out of 8\n",
      " \n",
      " \n",
      " \n",
      "The number of points you have scored in total for this entire set of Problems is 18 out of 24\n"
     ]
    }
   ],
   "source": [
    "# ASSIGNMENT 2, TEST 4, POINTS 8"
   ]
  },
  {
   "cell_type": "markdown",
   "id": "0f78ef68",
   "metadata": {},
   "source": [
    "The number of points you have scored in total for this entire set of Problems is 18 out of 24."
   ]
  }
 ],
 "metadata": {
  "language_info": {
   "codemirror_mode": {
    "name": "ipython",
    "version": 3
   },
   "file_extension": ".py",
   "mimetype": "text/x-python",
   "name": "python",
   "nbconvert_exporter": "python",
   "pygments_lexer": "ipython3",
   "version": "3.9.12"
  },
  "lx_assignment_number": 2,
  "lx_course_instance": "2024",
  "lx_course_name": "Introduction to Data Science",
  "lx_course_number": "1MS041"
 },
 "nbformat": 4,
 "nbformat_minor": 5
}
