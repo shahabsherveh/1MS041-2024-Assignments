{
 "cells": [
  {
   "cell_type": "markdown",
   "id": "d49f2b9e",
   "metadata": {
    "deletable": false
   },
   "source": [
    "\n",
    "# Assignment 3 for Course 1MS041\n",
    "Make sure you pass the `# ... Test` cells and\n",
    " submit your solution notebook in the corresponding assignment on the course website. You can submit multiple times before the deadline and your highest score will be used."
   ]
  },
  {
   "cell_type": "markdown",
   "id": "7a3f27d5",
   "metadata": {
    "deletable": false,
    "lx_assignment_number": "3",
    "lx_assignment_type": "ASSIGNMENT",
    "lx_assignment_type2print": "Assignment",
    "lx_problem_cell_type": "PROBLEM",
    "lx_problem_number": "1",
    "lx_problem_points": "8"
   },
   "source": [
    "---\n",
    "## Assignment 3, PROBLEM 1\n",
    "Maximum Points = 8"
   ]
  },
  {
   "cell_type": "markdown",
   "id": "ea37109a",
   "metadata": {
    "deletable": false,
    "lx_assignment_number": "3",
    "lx_assignment_type": "ASSIGNMENT",
    "lx_assignment_type2print": "Assignment",
    "lx_problem_cell_type": "PROBLEM",
    "lx_problem_number": "1",
    "lx_problem_points": "8"
   },
   "source": [
    "\n",
    "Download the updated data folder from the course github website or just download directly the file [https://github.com/datascience-intro/1MS041-2024/blob/main/notebooks/data/smhi.csv](https://github.com/datascience-intro/1MS041-2024/blob/main/notebooks/data/smhi.csv) from the github website and put it inside your data folder, i.e. you want the path `data/smhi.csv`. The data was aquired from SMHI (Swedish Meteorological and Hydrological Institute) and constitutes per hour measurements of wind in the Uppsala Aut station. The data consists of windspeed and direction. Your goal is to load the data and work with it a bit. The code you produce should load the file as it is, please do not alter the file as the autograder will only have access to the original file.\n",
    "\n",
    "The file information is in Swedish so you need to use some translation service, for instance `Google translate` or ChatGPT.\n",
    "\n",
    "1. [2p] Load the file, for instance using the `csv` package. Put the wind-direction as a numpy array and the wind-speed as another numpy array.\n",
    "2. [2p] Use the wind-direction which is an angle in degrees and convert it into a point on the unit circle. Store the `x_coordinate` as one array and the `y_coordinate` as another. From these coordinates, construct the wind-velocity vector.\n",
    "3. [2p] Calculate the average wind velocity and convert it back to direction and compare it to just taking average of the wind direction as given in the data-file.\n",
    "4. [2p] The wind velocity is a $2$-dimensional random variable, calculate the empirical covariance matrix which should be a numpy array of shape (2,2).\n",
    "\n",
    "For you to wonder about, is it more likely for you to have headwind or not when going to the university in the morning."
   ]
  },
  {
   "cell_type": "code",
   "execution_count": 1,
   "id": "1d555ce1",
   "metadata": {
    "deletable": false,
    "execution": {
     "iopub.execute_input": "2024-11-15T01:14:24.260265Z",
     "iopub.status.busy": "2024-11-15T01:14:24.259153Z",
     "iopub.status.idle": "2024-11-15T01:14:24.741327Z",
     "shell.execute_reply": "2024-11-15T01:14:24.740562Z"
    },
    "lx_assignment_number": "3",
    "lx_assignment_type": "ASSIGNMENT",
    "lx_assignment_type2print": "Assignment",
    "lx_problem_cell_type": "PROBLEM",
    "lx_problem_number": "1",
    "lx_problem_points": "8"
   },
   "outputs": [],
   "source": [
    "import pandas as pd\n",
    "df = pd.read_csv('./data/smhi.csv', delimiter=';', skiprows=11, header=0)\n",
    "problem1_wind_direction = df.Vindriktning.values\n",
    "problem1_wind_speed = df.Vindhastighet.values"
   ]
  },
  {
   "cell_type": "code",
   "execution_count": 2,
   "id": "2a021927",
   "metadata": {
    "deletable": false,
    "execution": {
     "iopub.execute_input": "2024-11-15T01:14:24.746099Z",
     "iopub.status.busy": "2024-11-15T01:14:24.745752Z",
     "iopub.status.idle": "2024-11-15T01:14:24.751789Z",
     "shell.execute_reply": "2024-11-15T01:14:24.750977Z"
    },
    "lx_assignment_number": "3",
    "lx_assignment_type": "ASSIGNMENT",
    "lx_assignment_type2print": "Assignment",
    "lx_problem_cell_type": "PROBLEM",
    "lx_problem_number": "1",
    "lx_problem_points": "8"
   },
   "outputs": [],
   "source": [
    "import numpy as np\n",
    "# The wind direction is given as a compass direction in degrees (0-360)\n",
    "# convert it to x and y coordinates using the standard mathematical convention\n",
    "problem1_wind_direction_x_coordinate = np.cos(problem1_wind_direction/180*np.pi)\n",
    "problem1_wind_direction_y_coordinate = np.sin(problem1_wind_direction/180*np.pi)\n",
    "\n",
    "\n",
    "problem1_wind_velocity_x_coordinate = np.sqrt(problem1_wind_speed) * problem1_wind_direction_x_coordinate\n",
    "problem1_wind_velocity_y_coordinate = np.sqrt(problem1_wind_speed) * problem1_wind_direction_y_coordinate"
   ]
  },
  {
   "cell_type": "code",
   "execution_count": 3,
   "id": "e5eaa4a4",
   "metadata": {
    "deletable": false,
    "execution": {
     "iopub.execute_input": "2024-11-15T01:14:24.755809Z",
     "iopub.status.busy": "2024-11-15T01:14:24.755426Z",
     "iopub.status.idle": "2024-11-15T01:14:24.761138Z",
     "shell.execute_reply": "2024-11-15T01:14:24.760221Z"
    },
    "lx_assignment_number": "3",
    "lx_assignment_type": "ASSIGNMENT",
    "lx_assignment_type2print": "Assignment",
    "lx_problem_cell_type": "PROBLEM",
    "lx_problem_number": "1",
    "lx_problem_points": "8"
   },
   "outputs": [],
   "source": [
    "\n",
    "# Put the average wind velocity x and y coordinates here in these variables\n",
    "problem1_average_wind_velocity_x_coordinate = problem1_wind_velocity_x_coordinate.mean()\n",
    "problem1_average_wind_velocity_y_coordinate = problem1_wind_velocity_y_coordinate.mean()\n",
    "\n",
    "# First calculate the angle of the average wind velocity vector in degrees\n",
    "problem1_average_wind_velocity_angle_degrees = (np.arctan2(problem1_average_wind_velocity_y_coordinate, problem1_average_wind_velocity_x_coordinate) + 2*np.pi) % (2*np.pi) * 180 / np.pi\n",
    "# Then calculate the average angle of the wind direction in degrees (using the wind direction in the data)\n",
    "problem1_average_wind_direction_angle_degrees = problem1_wind_direction.mean()\n",
    "\n",
    "# Finally, are they the same? Answer as a boolean value (True or False)\n",
    "problem1_same_angle = False"
   ]
  },
  {
   "cell_type": "code",
   "execution_count": 4,
   "id": "30621c34",
   "metadata": {
    "deletable": false,
    "execution": {
     "iopub.execute_input": "2024-11-15T01:14:24.765703Z",
     "iopub.status.busy": "2024-11-15T01:14:24.765109Z",
     "iopub.status.idle": "2024-11-15T01:14:24.770485Z",
     "shell.execute_reply": "2024-11-15T01:14:24.769596Z"
    },
    "lx_assignment_number": "3",
    "lx_assignment_type": "ASSIGNMENT",
    "lx_assignment_type2print": "Assignment",
    "lx_problem_cell_type": "PROBLEM",
    "lx_problem_number": "1",
    "lx_problem_points": "8"
   },
   "outputs": [],
   "source": [
    "\n",
    "problem1_wind_velocity_covariance_matrix = np.cov(problem1_wind_velocity_x_coordinate, problem1_wind_velocity_y_coordinate)"
   ]
  },
  {
   "cell_type": "code",
   "execution_count": 5,
   "id": "4862bb3b",
   "metadata": {
    "deletable": false,
    "execution": {
     "iopub.execute_input": "2024-11-15T01:14:24.774981Z",
     "iopub.status.busy": "2024-11-15T01:14:24.774418Z",
     "iopub.status.idle": "2024-11-15T01:14:24.918856Z",
     "shell.execute_reply": "2024-11-15T01:14:24.918015Z"
    },
    "lx_assignment_number": "3",
    "lx_assignment_type": "ASSIGNMENT",
    "lx_assignment_type2print": "Assignment",
    "lx_problem_cell_type": "TEST",
    "lx_problem_number": "1",
    "lx_problem_points": "8",
    "lx_test_only": "True"
   },
   "outputs": [
    {
     "name": "stdout",
     "output_type": "stream",
     "text": [
      "Beginning tests for problem 1\n",
      "\n",
      "---------------------------------\n",
      "Beginning test for part1\n",
      "---------------------------------\n",
      "\n",
      "-----Beginning test------\n",
      "The wind direction data is correct\n",
      "-----Ending test---------\n",
      "\n",
      "-----Beginning test------\n",
      "The wind speed data is correct\n",
      "-----Ending test---------\n",
      "\n",
      "---------------------------------\n",
      "Beginning test for part2\n",
      "---------------------------------\n",
      "\n",
      "-----Beginning test------\n",
      "The wind direction x coordinate data is correct\n",
      "-----Ending test---------\n",
      "\n",
      "-----Beginning test------\n",
      "The wind direction y coordinate data is correct\n",
      "-----Ending test---------\n",
      "\n",
      "-----Beginning test------\n",
      "\n",
      "The wind velocity x coordinate data is not correct\n",
      "You got 0.5 points deduction \n",
      "-----Ending test---------\n",
      "\n",
      "-----Beginning test------\n",
      "\n",
      "The wind velocity y coordinate data is not correct\n",
      "You got 0.5 points deduction \n",
      "-----Ending test---------\n",
      "\n",
      "---------------------------------\n",
      "Beginning test for part3\n",
      "---------------------------------\n",
      "\n",
      "-----Beginning test------\n",
      "\n",
      "The average wind velocity x coordinate data is not correct\n",
      "You got 0.4 points deduction \n",
      "-----Ending test---------\n",
      "\n",
      "-----Beginning test------\n",
      "\n",
      "The average wind velocity y coordinate data is not correct\n",
      "You got 0.4 points deduction \n",
      "-----Ending test---------\n",
      "\n",
      "-----Beginning test------\n",
      "\n",
      "The average wind velocity angle data is not correct\n",
      "You got 0.4 points deduction \n",
      "-----Ending test---------\n",
      "\n",
      "-----Beginning test------\n",
      "The average wind direction angle data is correct\n",
      "-----Ending test---------\n",
      "\n",
      "-----Beginning test------\n",
      "Correct, the angles should differ\n",
      "-----Ending test---------\n",
      "\n",
      "---------------------------------\n",
      "Beginning test for part4\n",
      "---------------------------------\n",
      "\n",
      "-----Beginning test------\n",
      "\n",
      "The wind velocity covariance matrix data is not correct\n",
      "You got 2.0 points deduction \n",
      "-----Ending test---------\n",
      "\n",
      "\n",
      "All tests complete, you got = 4 points\n",
      "The number of points you have scored for this problem is 4 out of 8\n",
      "The number of points you have accumulated thus far is   4 out of 8\n"
     ]
    }
   ],
   "source": [
    "# ASSIGNMENT 3, TEST 1, POINTS 8"
   ]
  },
  {
   "cell_type": "markdown",
   "id": "2266a760",
   "metadata": {
    "deletable": false,
    "lx_assignment_number": "3",
    "lx_assignment_type": "ASSIGNMENT",
    "lx_assignment_type2print": "Assignment",
    "lx_problem_cell_type": "PROBLEM",
    "lx_problem_number": "2",
    "lx_problem_points": "8"
   },
   "source": [
    "---\n",
    "## Assignment 3, PROBLEM 2\n",
    "Maximum Points = 8"
   ]
  },
  {
   "cell_type": "markdown",
   "id": "45238a00",
   "metadata": {
    "deletable": false,
    "lx_assignment_number": "3",
    "lx_assignment_type": "ASSIGNMENT",
    "lx_assignment_type2print": "Assignment",
    "lx_problem_cell_type": "PROBLEM",
    "lx_problem_number": "2",
    "lx_problem_points": "8"
   },
   "source": [
    "\n",
    "For this problem you will need the [pandas](https://pandas.pydata.org/) package and the [sklearn](https://scikit-learn.org/stable/) package. Inside the `data` folder from the course website you will find a file called `indoor_train.csv`, this file includes a bunch of positions in (X,Y,Z) and also a location number. The idea is to assign a room number (Location) to the coordinates (X,Y,Z).\n",
    "\n",
    "1. [2p] Take the data in the file `indoor_train.csv` and load it using pandas into a dataframe `df_train`\n",
    "2. [3p] From this dataframe `df_train`, create two numpy arrays, one `Xtrain` and `Ytrain`, they should have sizes `(1154,3)` and `(1154,)` respectively. Their `dtype` should be `float64` and `int64` respectively.\n",
    "3. [3p] Train a Support Vector Classifier, `sklearn.svc.SVC`, on `Xtrain, Ytrain` with `kernel='linear'` and name the trained model `svc_train`.\n",
    "\n",
    "To mimic how [kaggle](https://www.kaggle.com/) works, the Autograder has access to a hidden test-set and will test your fitted model."
   ]
  },
  {
   "cell_type": "code",
   "execution_count": 6,
   "id": "a13a0482",
   "metadata": {
    "deletable": false,
    "execution": {
     "iopub.execute_input": "2024-11-15T01:14:24.923587Z",
     "iopub.status.busy": "2024-11-15T01:14:24.923183Z",
     "iopub.status.idle": "2024-11-15T01:14:24.929934Z",
     "shell.execute_reply": "2024-11-15T01:14:24.929073Z"
    },
    "lx_assignment_number": "3",
    "lx_assignment_type": "ASSIGNMENT",
    "lx_assignment_type2print": "Assignment",
    "lx_problem_cell_type": "PROBLEM",
    "lx_problem_number": "2",
    "lx_problem_points": "8"
   },
   "outputs": [],
   "source": [
    "\n",
    "df_train = pd.read_csv('./data/indoor_train.csv')"
   ]
  },
  {
   "cell_type": "code",
   "execution_count": 7,
   "id": "da145026",
   "metadata": {
    "deletable": false,
    "execution": {
     "iopub.execute_input": "2024-11-15T01:14:24.934332Z",
     "iopub.status.busy": "2024-11-15T01:14:24.933932Z",
     "iopub.status.idle": "2024-11-15T01:14:24.939510Z",
     "shell.execute_reply": "2024-11-15T01:14:24.938618Z"
    },
    "lx_assignment_number": "3",
    "lx_assignment_type": "ASSIGNMENT",
    "lx_assignment_type2print": "Assignment",
    "lx_problem_cell_type": "PROBLEM",
    "lx_problem_number": "2",
    "lx_problem_points": "8"
   },
   "outputs": [],
   "source": [
    "\n",
    "Xtrain = df_train.drop('Location', axis=1).values\n",
    "Ytrain = df_train['Location'].values"
   ]
  },
  {
   "cell_type": "code",
   "execution_count": 8,
   "id": "c0663333",
   "metadata": {
    "deletable": false,
    "execution": {
     "iopub.execute_input": "2024-11-15T01:14:24.943642Z",
     "iopub.status.busy": "2024-11-15T01:14:24.943257Z",
     "iopub.status.idle": "2024-11-15T01:14:25.345496Z",
     "shell.execute_reply": "2024-11-15T01:14:25.344554Z"
    },
    "lx_assignment_number": "3",
    "lx_assignment_type": "ASSIGNMENT",
    "lx_assignment_type2print": "Assignment",
    "lx_problem_cell_type": "PROBLEM",
    "lx_problem_number": "2",
    "lx_problem_points": "8"
   },
   "outputs": [],
   "source": [
    "from sklearn.svm import SVC\n",
    "model = SVC(kernel='linear')\n",
    "model.fit(Xtrain, Ytrain)\n",
    "svc_train = model"
   ]
  },
  {
   "cell_type": "code",
   "execution_count": 9,
   "id": "06c3f1f2",
   "metadata": {
    "deletable": false,
    "execution": {
     "iopub.execute_input": "2024-11-15T01:14:25.350224Z",
     "iopub.status.busy": "2024-11-15T01:14:25.349881Z",
     "iopub.status.idle": "2024-11-15T01:14:25.376089Z",
     "shell.execute_reply": "2024-11-15T01:14:25.375167Z"
    },
    "lx_assignment_number": "3",
    "lx_assignment_type": "ASSIGNMENT",
    "lx_assignment_type2print": "Assignment",
    "lx_problem_cell_type": "TEST",
    "lx_problem_number": "2",
    "lx_problem_points": "8",
    "lx_test_only": "True"
   },
   "outputs": [
    {
     "name": "stdout",
     "output_type": "stream",
     "text": [
      "Beginning tests for problem 2\n",
      "\n",
      "-----Beginning test------\n",
      "Your dataframe has the correct length\n",
      "-----Ending test---------\n",
      "\n",
      "-----Beginning test------\n",
      "Your dataframe has the correct number of colums\n",
      "-----Ending test---------\n",
      "\n",
      "-----Beginning test------\n",
      "Your dataframe has the correct type\n",
      "-----Ending test---------\n",
      "\n",
      "-----Beginning test------\n",
      "Your Xtrain has the correct shape\n",
      "-----Ending test---------\n",
      "\n",
      "-----Beginning test------\n",
      "Your Ytrain has the correct shape\n",
      "-----Ending test---------\n",
      "\n",
      "-----Beginning test------\n",
      "Your Xtrain has the correct type\n",
      "-----Ending test---------\n",
      "\n",
      "-----Beginning test------\n",
      "Your Ytrain has the correct type\n",
      "-----Ending test---------\n",
      "\n",
      "-----Beginning test------\n",
      "Your Xtrain has the correct dtype\n",
      "-----Ending test---------\n",
      "\n",
      "-----Beginning test------\n",
      "Your Ytrain has the correct dtype\n",
      "-----Ending test---------\n",
      "\n",
      "-----Beginning test------\n",
      "Your svc_train has the correct type\n",
      "-----Ending test---------\n",
      "\n",
      "-----Beginning test------\n",
      "Your svc_train has been fitted\n",
      "-----Ending test---------\n",
      "\n",
      "-----Beginning test------\n",
      "You fitted the svc_train with the correct kernel\n",
      "-----Ending test---------\n",
      "\n",
      "-----Beginning test------\n",
      "You got a score of 1.00\n",
      "Your classifier passed the test, i.e. accuracy is better than 0.9\n",
      "-----Ending test---------\n",
      "\n",
      "\n",
      "All tests complete, you got = 8 points\n",
      "The number of points you have scored for this problem is 8 out of 8\n",
      "The number of points you have accumulated thus far is   12 out of 16\n"
     ]
    }
   ],
   "source": [
    "# ASSIGNMENT 3, TEST 2, POINTS 8"
   ]
  },
  {
   "cell_type": "markdown",
   "id": "4e1452bd",
   "metadata": {
    "deletable": false,
    "lx_assignment_number": "3",
    "lx_assignment_type": "ASSIGNMENT",
    "lx_assignment_type2print": "Assignment",
    "lx_problem_cell_type": "PROBLEM",
    "lx_problem_number": "3",
    "lx_problem_points": "8"
   },
   "source": [
    "---\n",
    "## Assignment 3, PROBLEM 3\n",
    "Maximum Points = 8"
   ]
  },
  {
   "cell_type": "markdown",
   "id": "1ec7f987",
   "metadata": {
    "deletable": false,
    "lx_assignment_number": "3",
    "lx_assignment_type": "ASSIGNMENT",
    "lx_assignment_type2print": "Assignment",
    "lx_problem_cell_type": "PROBLEM",
    "lx_problem_number": "3",
    "lx_problem_points": "8"
   },
   "source": [
    "\n",
    "Let us build a proportional model ($\\mathbb{P}(Y=1 \\mid X) = G(\\beta_0+\\beta \\cdot X)$ where $G$ is the logistic function) for the spam vs not spam data. Here we assume that the features are presence vs not presence of a word, let $X_1,X_2,X_3$ denote the presence (1) or absence (0) of the words $(\"free\", \"prize\", \"win\")$.\n",
    "\n",
    "1. [2p] Load the file `data/spam.csv` and create two numpy arrays, `problem3_X` which has shape **(n_texts,3)** where each feature in `problem3_X` corresponds to $X_1,X_2,X_3$ from above, `problem3_Y` which has shape **(n_texts,)** and consists of a $1$ if the email is spam and $0$ if it is not. Split this data into a train-calibration-test sets where we have the split $40\\%$, $20\\%$, $40\\%$, put this data in the designated variables in the code cell.\n",
    "\n",
    "2. [2p] Follow the calculation from the lecture notes where we derive the logistic regression and implement the final loss function inside the class `ProportionalSpam`. You can use the `Test` cell to check that it gives the correct value for a test-point.\n",
    "\n",
    "3. [2p] Train the model `problem3_ps` on the training data. The goal is to calibrate the probabilities output from the model. Start by creating a new variable `problem3_X_pred` (shape `(n_samples,1)`) which consists of the predictions of `problem3_ps` on the calibration dataset. Then train a calibration model using `sklearn.tree.DecisionTreeRegressor`, store this trained model in `problem3_calibrator`. Recall that calibration error is the following for a fixed function $f$\n",
    "$$\n",
    "    \\sqrt{\\mathbb{E}[|\\mathbb{E}[Y \\mid f(X)] - f(X)|^2]}.\n",
    "$$\n",
    "\n",
    "4. [2p] Use the trained model `problem3_ps` and the calibrator `problem3_calibrator` to make final predictions on the testing data, store the prediction in `problem3_final_predictions`. "
   ]
  },
  {
   "cell_type": "code",
   "execution_count": 10,
   "id": "5f0bc703",
   "metadata": {
    "deletable": false,
    "execution": {
     "iopub.execute_input": "2024-11-15T01:14:25.381116Z",
     "iopub.status.busy": "2024-11-15T01:14:25.380502Z",
     "iopub.status.idle": "2024-11-15T01:14:25.459893Z",
     "shell.execute_reply": "2024-11-15T01:14:25.459105Z"
    },
    "lx_assignment_number": "3",
    "lx_assignment_type": "ASSIGNMENT",
    "lx_assignment_type2print": "Assignment",
    "lx_problem_cell_type": "PROBLEM",
    "lx_problem_number": "3",
    "lx_problem_points": "8"
   },
   "outputs": [
    {
     "name": "stdout",
     "output_type": "stream",
     "text": [
      "(2229, 3) (1114, 3) (2231, 3) (2229,) (1114,) (2231,)\n"
     ]
    }
   ],
   "source": [
    "with open(\"./data/spam.csv\", \"r\", errors=\"replace\") as f:\n",
    "    spam = f.readlines()\n",
    "    spam = [x.split(\",\", maxsplit=1) for x in spam]\n",
    "    df_spam = pd.DataFrame(spam, columns=[\"label\", \"message\"])[1:]\n",
    "    df_spam[\"message\"] = df_spam[\"message\"].str.lower()\n",
    "\n",
    "X1 = df_spam[\"message\"].str.contains(r\"free\")\n",
    "X2 = df_spam[\"message\"].str.contains(r\"prize\")\n",
    "X3 = df_spam[\"message\"].str.contains(r\"win\")\n",
    "problem3_X = pd.concat([X1, X2, X3], axis=1).values\n",
    "problem3_Y = df_spam[\"label\"].values == \"spam\"\n",
    "\n",
    "nrows = problem3_X.shape[0]\n",
    "train_indices = np.random.choice(nrows, int(0.4 * nrows), replace=False)\n",
    "calib_indices = np.random.choice(\n",
    "    np.setdiff1d(np.arange(nrows), train_indices), int(0.2 * nrows), replace=False\n",
    ")\n",
    "test_indices = np.setdiff1d(\n",
    "    np.arange(nrows), np.concatenate([train_indices, calib_indices])\n",
    ")\n",
    "\n",
    "problem3_X_train = problem3_X[train_indices]\n",
    "problem3_X_calib = problem3_X[calib_indices]\n",
    "problem3_X_test = problem3_X[test_indices]\n",
    "\n",
    "problem3_Y_train = problem3_Y[train_indices]\n",
    "problem3_Y_calib = problem3_Y[calib_indices]\n",
    "problem3_Y_test = problem3_Y[test_indices]\n",
    "\n",
    "print(\n",
    "    problem3_X_train.shape,\n",
    "    problem3_X_calib.shape,\n",
    "    problem3_X_test.shape,\n",
    "    problem3_Y_train.shape,\n",
    "    problem3_Y_calib.shape,\n",
    "    problem3_Y_test.shape,\n",
    ")"
   ]
  },
  {
   "cell_type": "code",
   "execution_count": 11,
   "id": "522b4096",
   "metadata": {
    "deletable": false,
    "execution": {
     "iopub.execute_input": "2024-11-15T01:14:25.464120Z",
     "iopub.status.busy": "2024-11-15T01:14:25.463728Z",
     "iopub.status.idle": "2024-11-15T01:14:25.471998Z",
     "shell.execute_reply": "2024-11-15T01:14:25.471238Z"
    },
    "lx_assignment_number": "3",
    "lx_assignment_type": "ASSIGNMENT",
    "lx_assignment_type2print": "Assignment",
    "lx_problem_cell_type": "PROBLEM",
    "lx_problem_number": "3",
    "lx_problem_points": "8"
   },
   "outputs": [],
   "source": [
    "\n",
    "\n",
    "class ProportionalSpam(object):\n",
    "    def __init__(self):\n",
    "        self.coeffs = None\n",
    "        self.result = None\n",
    "    \n",
    "    # define the objective/cost/loss function we want to minimise\n",
    "    def loss(self,X,Y,coeffs):\n",
    "        \n",
    "        return XXX\n",
    "\n",
    "    def fit(self,X,Y):\n",
    "        import numpy as np\n",
    "        from scipy import optimize\n",
    "\n",
    "        #Use the f above together with an optimization method from scipy\n",
    "        #to find the coefficients of the model\n",
    "        opt_loss = lambda coeffs: self.loss(X,Y,coeffs)\n",
    "        initial_arguments = np.zeros(shape=X.shape[1]+1)\n",
    "        self.result = optimize.minimize(opt_loss, initial_arguments,method='cg')\n",
    "        self.coeffs = self.result.x\n",
    "    \n",
    "    def predict(self,X):\n",
    "        #Use the trained model to predict Y\n",
    "        if (self.coeffs is not None):\n",
    "            G = lambda x: np.exp(x)/(1+np.exp(x))\n",
    "            return np.round(10*G(np.dot(X,self.coeffs[1:])+self.coeffs[0]))/10 # This rounding is to help you with the calibration"
   ]
  },
  {
   "cell_type": "code",
   "execution_count": 12,
   "id": "b97f059a",
   "metadata": {
    "deletable": false,
    "execution": {
     "iopub.execute_input": "2024-11-15T01:14:25.476187Z",
     "iopub.status.busy": "2024-11-15T01:14:25.475795Z",
     "iopub.status.idle": "2024-11-15T01:14:26.077861Z",
     "shell.execute_reply": "2024-11-15T01:14:26.076950Z"
    },
    "lx_assignment_number": "3",
    "lx_assignment_type": "ASSIGNMENT",
    "lx_assignment_type2print": "Assignment",
    "lx_problem_cell_type": "PROBLEM",
    "lx_problem_number": "3",
    "lx_problem_points": "8"
   },
   "outputs": [
    {
     "ename": "NameError",
     "evalue": "name 'XXX' is not defined",
     "output_type": "error",
     "traceback": [
      "\u001b[0;31m---------------------------------------------------------------------------\u001b[0m",
      "\u001b[0;31mNameError\u001b[0m                                 Traceback (most recent call last)",
      "Input \u001b[0;32mIn [12]\u001b[0m, in \u001b[0;36m<cell line: 1>\u001b[0;34m()\u001b[0m\n\u001b[0;32m----> 1\u001b[0m problem3_ps \u001b[38;5;241m=\u001b[39m \u001b[43mXXX\u001b[49m\n\u001b[1;32m      3\u001b[0m problem3_X_pred \u001b[38;5;241m=\u001b[39m XXX\n\u001b[1;32m      5\u001b[0m problem3_calibrator \u001b[38;5;241m=\u001b[39m XXX\n",
      "\u001b[0;31mNameError\u001b[0m: name 'XXX' is not defined"
     ]
    }
   ],
   "source": [
    "\n",
    "problem3_ps = XXX\n",
    "\n",
    "problem3_X_pred = XXX\n",
    "\n",
    "problem3_calibrator = XXX"
   ]
  },
  {
   "cell_type": "code",
   "execution_count": 13,
   "id": "07f477aa",
   "metadata": {
    "deletable": false,
    "execution": {
     "iopub.execute_input": "2024-11-15T01:14:26.081344Z",
     "iopub.status.busy": "2024-11-15T01:14:26.081009Z",
     "iopub.status.idle": "2024-11-15T01:14:26.098978Z",
     "shell.execute_reply": "2024-11-15T01:14:26.098094Z"
    },
    "lx_assignment_number": "3",
    "lx_assignment_type": "ASSIGNMENT",
    "lx_assignment_type2print": "Assignment",
    "lx_problem_cell_type": "PROBLEM",
    "lx_problem_number": "3",
    "lx_problem_points": "8"
   },
   "outputs": [
    {
     "ename": "NameError",
     "evalue": "name 'XXX' is not defined",
     "output_type": "error",
     "traceback": [
      "\u001b[0;31m---------------------------------------------------------------------------\u001b[0m",
      "\u001b[0;31mNameError\u001b[0m                                 Traceback (most recent call last)",
      "Input \u001b[0;32mIn [13]\u001b[0m, in \u001b[0;36m<cell line: 1>\u001b[0;34m()\u001b[0m\n\u001b[0;32m----> 1\u001b[0m problem3_final_predictions \u001b[38;5;241m=\u001b[39m \u001b[43mXXX\u001b[49m\n",
      "\u001b[0;31mNameError\u001b[0m: name 'XXX' is not defined"
     ]
    }
   ],
   "source": [
    "\n",
    "problem3_final_predictions = XXX"
   ]
  },
  {
   "cell_type": "markdown",
   "id": "51c0985f",
   "metadata": {
    "deletable": false,
    "lx_assignment_number": "3",
    "lx_assignment_type": "ASSIGNMENT",
    "lx_assignment_type2print": "Assignment",
    "lx_problem_cell_type": "Test",
    "lx_problem_number": "3",
    "lx_problem_points": "8"
   },
   "source": [
    "---\n",
    "#### Local Test for Assignment 3, PROBLEM 3\n",
    "Evaluate cell below to make sure your answer is valid.                             You **should not** modify anything in the cell below when evaluating it to do a local test of                             your solution.\n",
    "You may need to include and evaluate code snippets from lecture notebooks in cells above to make the local test work correctly sometimes (see error messages for clues). This is meant to help you become efficient at recalling materials covered in lectures that relate to this problem. Such local tests will generally not be available in the exam."
   ]
  },
  {
   "cell_type": "code",
   "execution_count": 14,
   "id": "1abcb445",
   "metadata": {
    "deletable": false,
    "execution": {
     "iopub.execute_input": "2024-11-15T01:14:26.102596Z",
     "iopub.status.busy": "2024-11-15T01:14:26.102206Z",
     "iopub.status.idle": "2024-11-15T01:14:26.108228Z",
     "shell.execute_reply": "2024-11-15T01:14:26.107552Z"
    },
    "lx_assignment_number": "3",
    "lx_assignment_type": "ASSIGNMENT",
    "lx_assignment_type2print": "Assignment",
    "lx_problem_cell_type": "Test",
    "lx_problem_number": "3",
    "lx_problem_points": "8"
   },
   "outputs": [
    {
     "name": "stdout",
     "output_type": "stream",
     "text": [
      "Your loss was not correct on a test point\n"
     ]
    }
   ],
   "source": [
    "try:\n",
    "    import numpy as np\n",
    "    test_instance = ProportionalSpam()\n",
    "    test_loss = test_instance.loss(np.array([[1,0,1],[0,1,1]]),np.array([1,0]),np.array([1.2,0.4,0.3,0.9]))\n",
    "    assert (np.abs(test_loss-1.2828629432232497) < 1e-6)\n",
    "    print(\"Your loss was correct for a test point\")\n",
    "except:\n",
    "    print(\"Your loss was not correct on a test point\")"
   ]
  },
  {
   "cell_type": "code",
   "execution_count": 15,
   "id": "a5ccbe2e",
   "metadata": {
    "deletable": false,
    "execution": {
     "iopub.execute_input": "2024-11-15T01:14:26.113703Z",
     "iopub.status.busy": "2024-11-15T01:14:26.113259Z",
     "iopub.status.idle": "2024-11-15T01:14:26.142182Z",
     "shell.execute_reply": "2024-11-15T01:14:26.141262Z"
    },
    "lx_assignment_number": "3",
    "lx_assignment_type": "ASSIGNMENT",
    "lx_assignment_type2print": "Assignment",
    "lx_problem_cell_type": "TEST",
    "lx_problem_number": "3",
    "lx_problem_points": "8",
    "lx_test_only": "True"
   },
   "outputs": [
    {
     "name": "stdout",
     "output_type": "stream",
     "text": [
      "Beginning tests for problem 3\n",
      "\n",
      "---------------------------------\n",
      "Beginning test for part1\n",
      "---------------------------------\n",
      "\n",
      "-----Beginning test------\n",
      "\n",
      "problem3_X does not have the correct shape\n",
      "You got 0.25 points deduction \n",
      "-----Ending test---------\n",
      "\n",
      "-----Beginning test------\n",
      "\n",
      "problem3_Y does not have the correct shape\n",
      "You got 0.25 points deduction \n",
      "-----Ending test---------\n",
      "\n",
      "-----Beginning test------\n",
      "problem3_X_train has the correct number of features\n",
      "-----Ending test---------\n",
      "\n",
      "-----Beginning test------\n",
      "problem3_X_calib has the correct number of features\n",
      "-----Ending test---------\n",
      "\n",
      "-----Beginning test------\n",
      "problem3_X_test has the correct number of features\n",
      "-----Ending test---------\n",
      "\n",
      "-----Beginning test------\n",
      "problem3_Y_train has the correct shape\n",
      "-----Ending test---------\n",
      "\n",
      "-----Beginning test------\n",
      "problem3_Y_calib has the correct shape\n",
      "-----Ending test---------\n",
      "\n",
      "-----Beginning test------\n",
      "problem3_Y_test has the correct shape\n",
      "-----Ending test---------\n",
      "\n",
      "---------------------------------\n",
      "Beginning test for part2\n",
      "---------------------------------\n",
      "\n",
      "-----Beginning test------\n",
      "name 'XXX' is not defined\n",
      "Your loss does not produce a number as output\n",
      "You got 0.50 points deduction \n",
      "-----Ending test---------\n",
      "\n",
      "-----Beginning test------\n",
      "name 'XXX' is not defined\n",
      "Your supplied loss differs more than 1e-3 from the reference even when correcting for the 2y-1 mistake\n",
      "You got 0.50 points deduction \n",
      "-----Ending test---------\n",
      "\n",
      "-----Beginning test------\n",
      "name 'XXX' is not defined\n",
      "Your supplied loss differs more than 1e-3 from the reference\n",
      "You got 1.00 points deduction \n",
      "-----Ending test---------\n",
      "\n",
      "---------------------------------\n",
      "Beginning test for part3\n",
      "---------------------------------\n",
      "\n",
      "-----Beginning test------\n",
      "name 'problem3_ps' is not defined\n",
      "Your optimization did not succeed\n",
      "You got 0.25 points deduction \n",
      "-----Ending test---------\n",
      "\n",
      "-----Beginning test------\n",
      "name 'problem3_X_pred' is not defined\n",
      "Your problem3_X_pred does not have the correct shape\n",
      "You got 0.25 points deduction \n",
      "-----Ending test---------\n",
      "\n",
      "-----Beginning test------\n",
      "name 'problem3_ps' is not defined\n",
      "Your problem3_X_pred does not contain the correct data\n",
      "You got 0.50 points deduction \n",
      "-----Ending test---------\n",
      "\n",
      "-----Beginning test------\n",
      "name 'problem3_calibrator' is not defined\n",
      "Your calibrator is not of type DecisionTreeRegressor\n",
      "You got 0.25 points deduction \n",
      "-----Ending test---------\n",
      "\n",
      "-----Beginning test------\n",
      "name 'problem3_calibrator' is not defined\n",
      "Your calibrator is not trained\n",
      "You got 0.25 points deduction \n",
      "-----Ending test---------\n",
      "\n",
      "-----Beginning test------\n",
      "name 'problem3_ps' is not defined\n",
      "Your calibrator is not trained on the correct thing\n",
      "You got 0.50 points deduction \n",
      "-----Ending test---------\n",
      "\n",
      "---------------------------------\n",
      "Beginning test for part4\n",
      "---------------------------------\n",
      "\n",
      "-----Beginning test------\n",
      "name 'problem3_final_predictions' is not defined\n",
      "Your final predictions differ from the output of your calibrator and model together\n",
      "You got 2.00 points deduction \n",
      "-----Ending test---------\n",
      "\n",
      "\n",
      "All tests complete, you got = 1.50 points\n",
      "The number of points you have scored for this problem is 1.5 out of 8\n",
      " \n",
      " \n",
      " \n",
      "The number of points you have scored in total for this entire set of Problems is 13.5 out of 24\n"
     ]
    }
   ],
   "source": [
    "# ASSIGNMENT 3, TEST 3, POINTS 8"
   ]
  },
  {
   "cell_type": "markdown",
   "id": "687a7856",
   "metadata": {},
   "source": [
    "The number of points you have scored in total for this entire set of Problems is 13.5 out of 24."
   ]
  }
 ],
 "metadata": {
  "language_info": {
   "codemirror_mode": {
    "name": "ipython",
    "version": 3
   },
   "file_extension": ".py",
   "mimetype": "text/x-python",
   "name": "python",
   "nbconvert_exporter": "python",
   "pygments_lexer": "ipython3",
   "version": "3.9.12"
  },
  "lx_assignment_number": 3,
  "lx_course_instance": "2024",
  "lx_course_name": "Introduction to Data Science",
  "lx_course_number": "1MS041"
 },
 "nbformat": 4,
 "nbformat_minor": 5
}
