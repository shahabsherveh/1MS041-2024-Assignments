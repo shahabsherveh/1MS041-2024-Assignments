{
 "cells": [
  {
   "cell_type": "markdown",
   "id": "b3f26371",
   "metadata": {
    "deletable": false
   },
   "source": [
    "\n",
    "# Assignment 2 for Course 1MS041\n",
    "Make sure you pass the `# ... Test` cells and\n",
    " submit your solution notebook in the corresponding assignment on the course website. You can submit multiple times before the deadline and your highest score will be used."
   ]
  },
  {
   "cell_type": "markdown",
   "id": "5aec0bfa",
   "metadata": {
    "deletable": false,
    "lx_assignment_number": "2",
    "lx_assignment_type": "ASSIGNMENT",
    "lx_assignment_type2print": "Assignment",
    "lx_problem_cell_type": "PROBLEM",
    "lx_problem_number": "1",
    "lx_problem_points": "8"
   },
   "source": [
    "---\n",
    "## Assignment 2, PROBLEM 1\n",
    "Maximum Points = 8"
   ]
  },
  {
   "cell_type": "markdown",
   "id": "db58f10b",
   "metadata": {
    "deletable": false,
    "lx_assignment_number": "2",
    "lx_assignment_type": "ASSIGNMENT",
    "lx_assignment_type2print": "Assignment",
    "lx_problem_cell_type": "PROBLEM",
    "lx_problem_number": "1",
    "lx_problem_points": "8"
   },
   "source": [
    "\n",
    "A courier company operates a fleet of delivery trucks that make deliveries to different parts of the city. The trucks are equipped with GPS tracking devices that record the location of each truck at regular intervals. The locations are divided into three regions: downtown, the suburbs, and the countryside. The following table shows the probabilities of a truck transitioning between these regions at each time step:\n",
    "\n",
    "| Current region | Probability of transitioning to downtown | Probability of transitioning to the suburbs | Probability of transitioning to the countryside |\n",
    "|----------------|--------------------------------------------|-----------------------------------------------|------------------------------------------------|\n",
    "| Downtown       | 0.3                                      | 0.4                                           | 0.3                                            |\n",
    "| Suburbs        | 0.2                                      | 0.5                                           | 0.3                                            |\n",
    "| Countryside    | 0.4                                      | 0.3                                           | 0.3                                            |\n",
    "\n",
    "1. If a truck is currently in the suburbs, what is the probability that it will be in the downtown region after two time steps? [1.5p]\n",
    "2. If a truck is currently in the suburbs, what is the probability that it will be in the downtown region **the first time** after two time steps? [1.5p]\n",
    "3. Is this Markov chain irreducible? [1.5p]\n",
    "4. What is the stationary distribution? [1.5p]\n",
    "5. Advanced question: What is the expected number of steps until the first time one enters the downtown region having started in the suburbs region. Hint: to get within 1 decimal point, it is enough to compute the probabilities for hitting times below 30. [2p]\n",
    "\n"
   ]
  },
  {
   "cell_type": "code",
   "execution_count": 1,
   "id": "2c601f0f",
   "metadata": {
    "ExecuteTime": {
     "end_time": "2024-10-31T09:04:23.163712Z",
     "start_time": "2024-10-31T09:04:22.896793Z"
    },
    "deletable": false,
    "execution": {
     "iopub.execute_input": "2024-11-08T14:09:02.832856Z",
     "iopub.status.busy": "2024-11-08T14:09:02.831565Z",
     "iopub.status.idle": "2024-11-08T14:09:02.852521Z",
     "shell.execute_reply": "2024-11-08T14:09:02.850697Z"
    },
    "lx_assignment_number": "2",
    "lx_assignment_type": "ASSIGNMENT",
    "lx_assignment_type2print": "Assignment",
    "lx_problem_cell_type": "PROBLEM",
    "lx_problem_number": "1",
    "lx_problem_points": "8"
   },
   "outputs": [],
   "source": [
    "# Part 1\n",
    "\n",
    "# Fill in the answer to part 1 below as a decimal number\n",
    "problem1_p1 = 0.2*0.3 + 0.5*0.2 + 0.3*0.4"
   ]
  },
  {
   "cell_type": "code",
   "execution_count": 2,
   "id": "52a172dc",
   "metadata": {
    "deletable": false,
    "execution": {
     "iopub.execute_input": "2024-11-08T14:09:02.861726Z",
     "iopub.status.busy": "2024-11-08T14:09:02.860968Z",
     "iopub.status.idle": "2024-11-08T14:09:02.867575Z",
     "shell.execute_reply": "2024-11-08T14:09:02.866231Z"
    },
    "lx_assignment_number": "2",
    "lx_assignment_type": "ASSIGNMENT",
    "lx_assignment_type2print": "Assignment",
    "lx_problem_cell_type": "PROBLEM",
    "lx_problem_number": "1",
    "lx_problem_points": "8"
   },
   "outputs": [],
   "source": [
    "# Part 2\n",
    "\n",
    "# Fill in the answer to part 2 below as a decimal number\n",
    "problem1_p2 = 0.5*0.2 + 0.3*0.4"
   ]
  },
  {
   "cell_type": "code",
   "execution_count": 3,
   "id": "a3b3872d",
   "metadata": {
    "deletable": false,
    "execution": {
     "iopub.execute_input": "2024-11-08T14:09:02.872973Z",
     "iopub.status.busy": "2024-11-08T14:09:02.872587Z",
     "iopub.status.idle": "2024-11-08T14:09:02.876959Z",
     "shell.execute_reply": "2024-11-08T14:09:02.876034Z"
    },
    "lx_assignment_number": "2",
    "lx_assignment_type": "ASSIGNMENT",
    "lx_assignment_type2print": "Assignment",
    "lx_problem_cell_type": "PROBLEM",
    "lx_problem_number": "1",
    "lx_problem_points": "8"
   },
   "outputs": [],
   "source": [
    "# Part 3\n",
    "\n",
    "# Fill in the answer to part 3 below as a boolean\n",
    "problem1_irreducible = True"
   ]
  },
  {
   "cell_type": "code",
   "execution_count": 4,
   "id": "1b9d0a00",
   "metadata": {
    "deletable": false,
    "execution": {
     "iopub.execute_input": "2024-11-08T14:09:02.881123Z",
     "iopub.status.busy": "2024-11-08T14:09:02.880718Z",
     "iopub.status.idle": "2024-11-08T14:09:03.030210Z",
     "shell.execute_reply": "2024-11-08T14:09:03.029421Z"
    },
    "lx_assignment_number": "2",
    "lx_assignment_type": "ASSIGNMENT",
    "lx_assignment_type2print": "Assignment",
    "lx_problem_cell_type": "PROBLEM",
    "lx_problem_number": "1",
    "lx_problem_points": "8"
   },
   "outputs": [],
   "source": [
    "# Part 4\n",
    "\n",
    "# Fill in the answer to part 4 below\n",
    "# the answer should be a numpy array of length 3\n",
    "# make sure that the entries sums to 1!\n",
    "import numpy as np\n",
    "p = np.array([[.3,.4,.3],[.2,.5,.3],[.4,.3,.3]])\n",
    "eigvals, eigvecs = np.linalg.eig(p.T)\n",
    "problem1_stationary = (eigvecs[:,0]/np.sum(eigvecs[:,0])).tolist()"
   ]
  },
  {
   "cell_type": "code",
   "execution_count": 5,
   "id": "481625e3",
   "metadata": {
    "deletable": false,
    "execution": {
     "iopub.execute_input": "2024-11-08T14:09:03.034516Z",
     "iopub.status.busy": "2024-11-08T14:09:03.033680Z",
     "iopub.status.idle": "2024-11-08T14:09:03.152461Z",
     "shell.execute_reply": "2024-11-08T14:09:03.151724Z"
    },
    "lx_assignment_number": "2",
    "lx_assignment_type": "ASSIGNMENT",
    "lx_assignment_type2print": "Assignment",
    "lx_problem_cell_type": "PROBLEM",
    "lx_problem_number": "1",
    "lx_problem_points": "8"
   },
   "outputs": [],
   "source": [
    "# Part 5\n",
    "\n",
    "# Fill in the answer to part 5 below\n",
    "# That is, the expected number of steps as a decimal number\n",
    "import copy\n",
    "def generate_samples(s0, p):\n",
    "    samples = [s0]\n",
    "    s = copy.copy(s0)\n",
    "    while True:\n",
    "        s = np.random.choice([0,1,2], p=p[s])\n",
    "        if s == 0:\n",
    "            samples.append(int(s))\n",
    "            break\n",
    "        samples.append(int(s))\n",
    "    return samples\n",
    "lengths = []\n",
    "for i in range(1000):\n",
    "    lengths.append(len(generate_samples(0, p)))\n",
    "problem1_ET = np.mean(lengths)"
   ]
  },
  {
   "cell_type": "code",
   "execution_count": 6,
   "id": "0440a2d4",
   "metadata": {
    "deletable": false,
    "execution": {
     "iopub.execute_input": "2024-11-08T14:09:03.156896Z",
     "iopub.status.busy": "2024-11-08T14:09:03.156491Z",
     "iopub.status.idle": "2024-11-08T14:09:03.170316Z",
     "shell.execute_reply": "2024-11-08T14:09:03.169610Z"
    },
    "lx_assignment_number": "2",
    "lx_assignment_type": "ASSIGNMENT",
    "lx_assignment_type2print": "Assignment",
    "lx_problem_cell_type": "TEST",
    "lx_problem_number": "1",
    "lx_problem_points": "8",
    "lx_test_only": "True"
   },
   "outputs": [
    {
     "name": "stdout",
     "output_type": "stream",
     "text": [
      "Beginning tests for problem 1\n",
      "\n",
      "---------------------------------\n",
      "Beginning test for part1\n",
      "---------------------------------\n",
      "\n",
      "-----Beginning test------\n",
      "Your probability is correct!\n",
      "-----Ending test---------\n",
      "\n",
      "---------------------------------\n",
      "Beginning test for part2\n",
      "---------------------------------\n",
      "\n",
      "-----Beginning test------\n",
      "Your probability is correct!\n",
      "-----Ending test---------\n",
      "\n",
      "---------------------------------\n",
      "Beginning test for part3\n",
      "---------------------------------\n",
      "\n",
      "-----Beginning test------\n",
      "Your answer is correct\n",
      "-----Ending test---------\n",
      "\n",
      "---------------------------------\n",
      "Beginning test for part4\n",
      "---------------------------------\n",
      "\n",
      "-----Beginning test------\n",
      "Your stationary distribution is within distance 0.01 from the true stationary distribution\n",
      "-----Ending test---------\n",
      "\n",
      "---------------------------------\n",
      "Beginning test for part5\n",
      "---------------------------------\n",
      "\n",
      "-----Beginning test------\n",
      "\n",
      "You are not within 0.05 from the actual answer which is roughly 3\n",
      "You got 2.0 points deduction \n",
      "-----Ending test---------\n",
      "\n",
      "\n",
      "All tests complete, you got = 6 points\n",
      "The number of points you have scored for this problem is 6 out of 8\n",
      "The number of points you have accumulated thus far is   6 out of 8\n"
     ]
    }
   ],
   "source": [
    "# ASSIGNMENT 2, TEST 1, POINTS 8"
   ]
  },
  {
   "cell_type": "markdown",
   "id": "215a4c8b",
   "metadata": {
    "deletable": false,
    "lx_assignment_number": "2",
    "lx_assignment_type": "ASSIGNMENT",
    "lx_assignment_type2print": "Assignment",
    "lx_problem_cell_type": "PROBLEM",
    "lx_problem_number": "2",
    "lx_problem_points": "4"
   },
   "source": [
    "---\n",
    "## Assignment 2, PROBLEM 2\n",
    "Maximum Points = 4"
   ]
  },
  {
   "cell_type": "markdown",
   "id": "d9a825d1",
   "metadata": {
    "deletable": false,
    "lx_assignment_number": "2",
    "lx_assignment_type": "ASSIGNMENT",
    "lx_assignment_type2print": "Assignment",
    "lx_problem_cell_type": "PROBLEM",
    "lx_problem_number": "2",
    "lx_problem_points": "4"
   },
   "source": [
    "\n",
    "Use the **Multi-dimensional Constrained Optimisation** example (in `07-Optimization.ipynb`) to numerically find the MLe for the mean and variance parameter based on `normallySimulatedDataSamples`, an array obtained by a specific simulation of $30$ IID samples from the $Normal(10,2)$ random variable.\n",
    "\n",
    "Recall that $Normal(\\mu, \\sigma^2)$ RV has the probability density function given by:\n",
    "\n",
    "$$\n",
    "f(x ;\\mu, \\sigma) = \\displaystyle\\frac{1}{\\sigma\\sqrt{2\\pi}}\\exp\\left(\\frac{-1}{2\\sigma^2}(x-\\mu)^2\\right)\n",
    "$$\n",
    "\n",
    "The two parameters, $\\mu \\in \\mathbb{R} := (-\\infty,\\infty)$ and $\\sigma \\in (0,\\infty)$, are sometimes referred to as the location and scale parameters.\n",
    "\n",
    "You know that the log likelihood function for $n$ IID samples from a Normal RV with parameters $\\mu$ and $\\sigma$ simply follows from $\\sum_{i=1}^n \\log(f(x_i; \\mu,\\sigma))$, based on the IID assumption. \n",
    "\n",
    "NOTE: When setting bounding boxes for $\\mu$ and $\\sigma$ try to start with some guesses like $[-20,20]$ and $[0.1,5.0]$ and make it larger if the solution is at the boundary. Making the left bounding-point for $\\sigma$ too close to $0.0$ will cause division by zero Warnings. Other numerical instabilities can happen in such iterative numerical solutions to the MLe. You need to be patient and learn by trial-and-error. You will see the mathematical theory in more details in a future course in scientific computing/optimisation. So don't worry too much now except learning to use it for our problems.  "
   ]
  },
  {
   "cell_type": "code",
   "execution_count": 7,
   "id": "699b52ca",
   "metadata": {
    "deletable": false,
    "execution": {
     "iopub.execute_input": "2024-11-08T14:09:03.175587Z",
     "iopub.status.busy": "2024-11-08T14:09:03.175255Z",
     "iopub.status.idle": "2024-11-08T14:09:03.351971Z",
     "shell.execute_reply": "2024-11-08T14:09:03.351116Z"
    },
    "lx_assignment_number": "2",
    "lx_assignment_type": "ASSIGNMENT",
    "lx_assignment_type2print": "Assignment",
    "lx_problem_cell_type": "PROBLEM",
    "lx_problem_number": "2",
    "lx_problem_points": "4"
   },
   "outputs": [
    {
     "data": {
      "text/plain": [
       "      fun: 58.63138728313343\n",
       " hess_inv: <2x2 LbfgsInvHessProduct with dtype=float64>\n",
       "      jac: array([-1.20081712e-04,  4.97379918e-05])\n",
       "  message: 'CONVERGENCE: REL_REDUCTION_OF_F_<=_FACTR*EPSMCH'\n",
       "     nfev: 51\n",
       "      nit: 10\n",
       "     njev: 17\n",
       "   status: 0\n",
       "  success: True\n",
       "        x: array([9.26860789, 1.70820388])"
      ]
     },
     "execution_count": 7,
     "metadata": {},
     "output_type": "execute_result"
    }
   ],
   "source": [
    "\n",
    "import numpy as np\n",
    "from scipy import optimize\n",
    "# do NOT change the next three lines\n",
    "np.random.seed(123456) # set seed\n",
    "# simulate 30 IID samples drawn from Normal(10,2)RV\n",
    "normallySimulatedDataSamples = np.random.normal(10,2,30) \n",
    "\n",
    "# define the negative log likelihoo function you want to minimise by editing XXX\n",
    "def negLogLklOfIIDNormalSamples(parameters):\n",
    "    '''return the -log(likelihood) of normallySimulatedDataSamples with mean and var parameters'''\n",
    "    try:\n",
    "        mu_param=parameters[0]\n",
    "        sigma_param=parameters[1]\n",
    "        pdf = lambda x: (1/(sigma_param*np.sqrt(2*np.pi)))*np.exp(-0.5*((x-mu_param)/sigma_param)**2)\n",
    "        log_pdf = lambda x: np.log(pdf(x))\n",
    "        return -np.sum(log_pdf(normallySimulatedDataSamples))\n",
    "    except RuntimeWarning:\n",
    "        print(pdf(normallySimulatedDataSamples))\n",
    "\n",
    "# you should only change XXX below and not anything else\n",
    "parameter_bounding_box=((-20, 20), (.5, 5)) # specify the constraints for each parameter - some guess work...\n",
    "initial_arguments = np.array([2, 1]) # point in 2D to initialise the minimize algorithm\n",
    "result_problem2_opt = optimize.minimize(negLogLklOfIIDNormalSamples, initial_arguments, bounds=parameter_bounding_box) \n",
    "# call the minimize method above finally! you need to play a bit to get initial conditions and bounding box ok\n",
    "result_problem2_opt\n"
   ]
  },
  {
   "cell_type": "code",
   "execution_count": 8,
   "id": "cc765556",
   "metadata": {
    "deletable": false,
    "execution": {
     "iopub.execute_input": "2024-11-08T14:09:03.356025Z",
     "iopub.status.busy": "2024-11-08T14:09:03.355638Z",
     "iopub.status.idle": "2024-11-08T14:09:03.368843Z",
     "shell.execute_reply": "2024-11-08T14:09:03.367990Z"
    },
    "lx_assignment_number": "2",
    "lx_assignment_type": "ASSIGNMENT",
    "lx_assignment_type2print": "Assignment",
    "lx_problem_cell_type": "TEST",
    "lx_problem_number": "2",
    "lx_problem_points": "4",
    "lx_test_only": "True"
   },
   "outputs": [
    {
     "name": "stdout",
     "output_type": "stream",
     "text": [
      "Beginning tests for problem 2\n",
      "\n",
      "---------------------------------\n",
      "Beginning test for part1\n",
      "---------------------------------\n",
      "\n",
      "-----Beginning test------\n",
      "Your negative log likelihood is correct on the first hidden test sample\n",
      "-----Ending test---------\n",
      "\n",
      "-----Beginning test------\n",
      "Your negative log likelihood is correct on the second hidden test sample\n",
      "-----Ending test---------\n",
      "\n",
      "---------------------------------\n",
      "Beginning test for part2\n",
      "---------------------------------\n",
      "\n",
      "-----Beginning test------\n",
      "Your optimization converged\n",
      "-----Ending test---------\n",
      "\n",
      "-----Beginning test------\n",
      "Your MLE for the mean is correct\n",
      "-----Ending test---------\n",
      "\n",
      "-----Beginning test------\n",
      "Your MLE for the variance is correct\n",
      "-----Ending test---------\n",
      "\n",
      "\n",
      "All tests complete, you got = 4 points\n",
      "The number of points you have scored for this problem is 4 out of 4\n",
      "The number of points you have accumulated thus far is   10 out of 12\n"
     ]
    }
   ],
   "source": [
    "# ASSIGNMENT 2, TEST 2, POINTS 4"
   ]
  },
  {
   "cell_type": "markdown",
   "id": "f722d247",
   "metadata": {
    "deletable": false,
    "lx_assignment_number": "2",
    "lx_assignment_type": "ASSIGNMENT",
    "lx_assignment_type2print": "Assignment",
    "lx_problem_cell_type": "PROBLEM",
    "lx_problem_number": "3",
    "lx_problem_points": "4"
   },
   "source": [
    "---\n",
    "## Assignment 2, PROBLEM 3\n",
    "Maximum Points = 4"
   ]
  },
  {
   "cell_type": "markdown",
   "id": "0b9c787c",
   "metadata": {
    "deletable": false,
    "lx_assignment_number": "2",
    "lx_assignment_type": "ASSIGNMENT",
    "lx_assignment_type2print": "Assignment",
    "lx_problem_cell_type": "PROBLEM",
    "lx_problem_number": "3",
    "lx_problem_points": "4"
   },
   "source": [
    "\n",
    "\n",
    "Derive the maximum likelihood estimate for $n$ IID samples from a random variable with the following probability density function:\n",
    "$$\n",
    "f(x; \\lambda) = \\frac{1}{24} \\lambda^5 x^4 \\exp(-\\lambda x), \\qquad \\text{ where, } \\lambda>0, x > 0\n",
    "$$\n",
    "\n",
    "You can solve the MLe by hand (using pencil paper or using key-strokes). Present your solution as the return value of a function called `def MLeForAssignment2Problem3(x)`, where `x` is a list of $n$ input data points."
   ]
  },
  {
   "cell_type": "code",
   "execution_count": 9,
   "id": "41720f28",
   "metadata": {
    "deletable": false,
    "execution": {
     "iopub.execute_input": "2024-11-08T14:09:03.373560Z",
     "iopub.status.busy": "2024-11-08T14:09:03.373182Z",
     "iopub.status.idle": "2024-11-08T14:09:03.381797Z",
     "shell.execute_reply": "2024-11-08T14:09:03.381088Z"
    },
    "lx_assignment_number": "2",
    "lx_assignment_type": "ASSIGNMENT",
    "lx_assignment_type2print": "Assignment",
    "lx_problem_cell_type": "PROBLEM",
    "lx_problem_number": "3",
    "lx_problem_points": "4"
   },
   "outputs": [],
   "source": [
    "\n",
    "# do not change the name of the function, just replace XXX with the appropriate expressions for the MLe\n",
    "def MLeForAssignment2Problem3(x):\n",
    "    '''\n",
    "    This function calculates the MLE for a list of samples x from our distribution.\n",
    "\n",
    "    This function includes two parts:\n",
    "    1. Provide a symbolic solution for the MLE of the parameter lambda of our distribution\n",
    "    2. Calculate the MLE for the given samples x\n",
    "\n",
    "    This function is capable of calculating the MLE for any distribution that sympy can find a symbolic solution for.\n",
    "    '''\n",
    "    import numpy as np\n",
    "    import sympy as sp\n",
    "    import copy\n",
    "\n",
    "    # Define the symbolic variables\n",
    "    x_sym = sp.IndexedBase('x',positive=True, real=True)\n",
    "    n_sym = sp.symbols('n', integer=True, positive=True)\n",
    "    i_sym = sp.Idx('i')\n",
    "    lam = sp.symbols('lambda', real=True, positive=True)\n",
    "\n",
    "    # Define the symbolic expression for the pdf\n",
    "    pdf = 1/24*lam**5*x_sym[i_sym]**4*sp.exp(-lam*x_sym[i_sym])\n",
    "\n",
    "    # Derive the log likelihood function \n",
    "    log_pdf = sp.log(pdf).simplify()\n",
    "    log_likelihood = sp.Sum(log_pdf, (i_sym,0, n_sym-1)).simplify()\n",
    "\n",
    "    # Calculate the derivative of the log likelihood\n",
    "    derivative = log_likelihood.diff(lam).simplify()\n",
    "\n",
    "    # Solve the derivative for lambda\n",
    "    solution = sp.solve(derivative, lam)[0]\n",
    "\n",
    "    # Calculate the MLE for the given samples x\n",
    "    n = len(x)\n",
    "\n",
    "    # Convert the solution to a numpy function\n",
    "    solution_copy = copy.deepcopy(solution).subs(n_sym, n).doit()\n",
    "    numpy_function = sp.lambdify([x_sym], solution_copy, 'numpy')\n",
    "    return numpy_function(x)"
   ]
  },
  {
   "cell_type": "code",
   "execution_count": 10,
   "id": "9e3a4e09",
   "metadata": {
    "deletable": false,
    "execution": {
     "iopub.execute_input": "2024-11-08T14:09:03.386270Z",
     "iopub.status.busy": "2024-11-08T14:09:03.385871Z",
     "iopub.status.idle": "2024-11-08T14:09:04.532297Z",
     "shell.execute_reply": "2024-11-08T14:09:04.531338Z"
    },
    "lx_assignment_number": "2",
    "lx_assignment_type": "ASSIGNMENT",
    "lx_assignment_type2print": "Assignment",
    "lx_problem_cell_type": "TEST",
    "lx_problem_number": "3",
    "lx_problem_points": "4",
    "lx_test_only": "True"
   },
   "outputs": [
    {
     "name": "stdout",
     "output_type": "stream",
     "text": [
      "Beginning tests for problem 2\n",
      "\n",
      "---------------------------------\n",
      "Beginning test for part1\n",
      "---------------------------------\n",
      "\n",
      "-----Beginning test------\n",
      "Your MLE is correct on a hidden test sample\n",
      "-----Ending test---------\n",
      "\n",
      "---------------------------------\n",
      "Beginning test for part2\n",
      "---------------------------------\n",
      "\n",
      "-----Beginning test------\n",
      "Your MLE is correct on a hidden test sample\n",
      "-----Ending test---------\n",
      "\n",
      "\n",
      "All tests complete, you got = 4 points\n",
      "The number of points you have scored for this problem is 4 out of 4\n",
      "The number of points you have accumulated thus far is   14 out of 16\n"
     ]
    }
   ],
   "source": [
    "# ASSIGNMENT 2, TEST 2, POINTS 4"
   ]
  },
  {
   "cell_type": "markdown",
   "id": "85367892",
   "metadata": {
    "deletable": false,
    "lx_assignment_number": "2",
    "lx_assignment_type": "ASSIGNMENT",
    "lx_assignment_type2print": "Assignment",
    "lx_problem_cell_type": "PROBLEM",
    "lx_problem_number": "4",
    "lx_problem_points": "8"
   },
   "source": [
    "---\n",
    "## Assignment 2, PROBLEM 4\n",
    "Maximum Points = 8"
   ]
  },
  {
   "cell_type": "markdown",
   "id": "2e67892b",
   "metadata": {
    "deletable": false,
    "lx_assignment_number": "2",
    "lx_assignment_type": "ASSIGNMENT",
    "lx_assignment_type2print": "Assignment",
    "lx_problem_cell_type": "PROBLEM",
    "lx_problem_number": "4",
    "lx_problem_points": "8"
   },
   "source": [
    "\n",
    "## Random variable generation and transformation\n",
    "\n",
    "The purpose of this problem is to show that you can implement your own sampler, this will be built in the following three steps:\n",
    "\n",
    "1. [2p] Implement a Linear Congruential Generator where you tested out a good combination (a large $M$ with $a,b$ satisfying the Hull-Dobell (Thm 6.8)) of parameters. Follow the instructions in the code block.\n",
    "2. [2p] Using a generator construct random numbers from the uniform $[0,1]$ distribution.\n",
    "3. [4p] Using a uniform $[0,1]$ random generator, generate samples from \n",
    "\n",
    "$$p_0(x) = \\frac{\\pi}{2}|\\sin(2\\pi x)|, \\quad x \\in [0,1] \\enspace .$$\n",
    "\n",
    "Using the **Accept-Reject** sampler (**Algorithm 1** in TFDS notes) with sampling density given by the uniform $[0,1]$ distribution."
   ]
  },
  {
   "cell_type": "code",
   "execution_count": 11,
   "id": "530446bc",
   "metadata": {
    "deletable": false,
    "execution": {
     "iopub.execute_input": "2024-11-08T14:09:04.536301Z",
     "iopub.status.busy": "2024-11-08T14:09:04.535836Z",
     "iopub.status.idle": "2024-11-08T14:09:04.544402Z",
     "shell.execute_reply": "2024-11-08T14:09:04.543494Z"
    },
    "lx_assignment_number": "2",
    "lx_assignment_type": "ASSIGNMENT",
    "lx_assignment_type2print": "Assignment",
    "lx_problem_cell_type": "PROBLEM",
    "lx_problem_number": "4",
    "lx_problem_points": "8"
   },
   "outputs": [],
   "source": [
    "\n",
    "import sympy as sp\n",
    "\n",
    "m = 2**32\n",
    "a = 1103515245\n",
    "b = 12345\n",
    "\n",
    "assert sp.gcd(b, m) == 1, \"b and M must be coprime\"\n",
    "assert set(sp.primefactors(a-1)).issuperset(sp.primefactors(m)), \"a-1 must be divisible by all prime factors of M\"\n",
    "assert (m % 4 != 0) or (a-1) % 4 == 0, \"If M is divisible by 4, then a-1 must be divisible by 4\"\n",
    "\n",
    "def problem4_LCG(size=None, seed = 0):\n",
    "    \"\"\"\n",
    "    A linear congruential generator that generates pseudo random numbers according to size.\n",
    "    \n",
    "    Parameters\n",
    "    -------------\n",
    "    size : an integer denoting how many samples should be produced\n",
    "    seed : the starting point of the LCG, i.e. u0 in the notes.\n",
    "    \n",
    "    Returns\n",
    "    -------------\n",
    "    out : a list of the pseudo random numbers\n",
    "    \"\"\"\n",
    "    import copy\n",
    "\n",
    "    samples = []\n",
    "    u = copy.copy(seed)\n",
    "    for i in range(size):\n",
    "        u = (a * u + b) % m\n",
    "        samples.append(u)\n",
    "    return samples"
   ]
  },
  {
   "cell_type": "code",
   "execution_count": 12,
   "id": "8d215c5a",
   "metadata": {
    "deletable": false,
    "execution": {
     "iopub.execute_input": "2024-11-08T14:09:04.548976Z",
     "iopub.status.busy": "2024-11-08T14:09:04.548508Z",
     "iopub.status.idle": "2024-11-08T14:09:04.554272Z",
     "shell.execute_reply": "2024-11-08T14:09:04.553355Z"
    },
    "lx_assignment_number": "2",
    "lx_assignment_type": "ASSIGNMENT",
    "lx_assignment_type2print": "Assignment",
    "lx_problem_cell_type": "PROBLEM",
    "lx_problem_number": "4",
    "lx_problem_points": "8"
   },
   "outputs": [],
   "source": [
    "\n",
    "def problem4_uniform(generator=None, period = 1, size=None, seed=0):\n",
    "    \"\"\"\n",
    "    Takes a generator and produces samples from the uniform [0,1] distribution according\n",
    "    to size.\n",
    "    \n",
    "    Parameters\n",
    "    -------------\n",
    "    generator : a function of type generator(size,seed) and produces the same result as problem1_LCG, i.e. pseudo random numbers in the range {0,1,...,period-1}\n",
    "    period : the period of the generator\n",
    "    seed : the seed to be used in the generator provided\n",
    "    size : an integer denoting how many samples should be produced\n",
    "    \n",
    "    Returns\n",
    "    --------------\n",
    "    out : a list of the uniform pseudo random numbers\n",
    "    \"\"\"\n",
    "    if generator is None:\n",
    "        generator = problem4_LCG\n",
    "    integer_samples = generator(size, seed)\n",
    "    return [sample/m for sample in integer_samples]\n",
    "    "
   ]
  },
  {
   "cell_type": "code",
   "execution_count": 13,
   "id": "15832284",
   "metadata": {
    "deletable": false,
    "execution": {
     "iopub.execute_input": "2024-11-08T14:09:04.557882Z",
     "iopub.status.busy": "2024-11-08T14:09:04.557496Z",
     "iopub.status.idle": "2024-11-08T14:09:04.565479Z",
     "shell.execute_reply": "2024-11-08T14:09:04.564697Z"
    },
    "lx_assignment_number": "2",
    "lx_assignment_type": "ASSIGNMENT",
    "lx_assignment_type2print": "Assignment",
    "lx_problem_cell_type": "PROBLEM",
    "lx_problem_number": "4",
    "lx_problem_points": "8"
   },
   "outputs": [],
   "source": [
    "\n",
    "def problem4_accept_reject(uniformGenerator=None, n_iterations=None, seed=0):\n",
    "    \"\"\"\n",
    "    Takes a generator that produces uniform pseudo random [0,1] numbers \n",
    "    and produces samples from (pi/2)*abs(sin(x*2*pi)) using an Accept-Reject\n",
    "    sampler with the uniform distribution as the proposal distribution.\n",
    "    Runs n_iterations\n",
    "    \n",
    "    Parameters\n",
    "    -------------\n",
    "    generator : a function of the type generator(size,seed) that produces uniform pseudo random\n",
    "    numbers from [0,1]\n",
    "    seed : the seed to be used in the generator provided\n",
    "    n_iterations : an integer denoting how many attempts should be made in the accept-reject sampler\n",
    "    \n",
    "    Returns\n",
    "    --------------\n",
    "    out : a list of the pseudo random numbers with the specified distribution\n",
    "    \"\"\"\n",
    "    import math\n",
    "\n",
    "    samples = []\n",
    "    pdf = lambda x :(math.pi/2)*abs(math.sin(x*2*math.pi))\n",
    "    g_samples = uniformGenerator(size=n_iterations, seed=seed)\n",
    "    u = uniformGenerator(size=n_iterations, seed=seed+1)\n",
    "    while len(samples) < n_iterations:\n",
    "        for i in range(n_iterations):\n",
    "            if u[i] <= pdf(g_samples[i])/(math.pi/2):\n",
    "                samples.append(g_samples[i])\n",
    "        if len(samples) < n_iterations:\n",
    "            seed += 2\n",
    "            g_samples = uniformGenerator(size=n_iterations,seed=seed)\n",
    "            u = uniformGenerator(size=n_iterations,seed=seed+1)\n",
    "    return samples"
   ]
  },
  {
   "cell_type": "markdown",
   "id": "8dbf40a0",
   "metadata": {
    "deletable": false,
    "lx_assignment_number": "2",
    "lx_assignment_type": "ASSIGNMENT",
    "lx_assignment_type2print": "Assignment",
    "lx_problem_cell_type": "Test",
    "lx_problem_number": "4",
    "lx_problem_points": "8"
   },
   "source": [
    "---\n",
    "#### Local Test for Assignment 2, PROBLEM 4\n",
    "Evaluate cell below to make sure your answer is valid.                             You **should not** modify anything in the cell below when evaluating it to do a local test of                             your solution.\n",
    "You may need to include and evaluate code snippets from lecture notebooks in cells above to make the local test work correctly sometimes (see error messages for clues). This is meant to help you become efficient at recalling materials covered in lectures that relate to this problem. Such local tests will generally not be available in the exam."
   ]
  },
  {
   "cell_type": "code",
   "execution_count": 14,
   "id": "26cd1592",
   "metadata": {
    "deletable": false,
    "execution": {
     "iopub.execute_input": "2024-11-08T14:09:04.569789Z",
     "iopub.status.busy": "2024-11-08T14:09:04.569449Z",
     "iopub.status.idle": "2024-11-08T14:09:04.576219Z",
     "shell.execute_reply": "2024-11-08T14:09:04.575352Z"
    },
    "lx_assignment_number": "2",
    "lx_assignment_type": "ASSIGNMENT",
    "lx_assignment_type2print": "Assignment",
    "lx_problem_cell_type": "Test",
    "lx_problem_number": "4",
    "lx_problem_points": "8"
   },
   "outputs": [
    {
     "name": "stdout",
     "output_type": "stream",
     "text": [
      "LCG output: [1103527590, 2524885223, 662824084, 3295386429, 4182499122, 2516284547, 3655513600, 2633739833, 3210001534, 267834847]\n",
      "Uniform sampler [0.25693503906950355, 0.5878706516232342, 0.15432575810700655, 0.767266943352297, 0.9738139626570046, 0.5858681506942958, 0.8511155843734741, 0.6132153405342251, 0.7473867232911289, 0.06236015981994569]\n",
      "Accept-Reject sampler [0.25693503906950355, 0.5878706516232342, 0.15432575810700655, 0.767266943352297, 0.5858681506942958, 0.8511155843734741, 0.6132153405342251, 0.7473867232911289, 0.1386128985323012, 0.6840353596489877, 0.7676989699248224, 0.8828409514389932, 0.8232365751173347, 0.8835694054141641, 0.8901184604037553, 0.7707993686199188, 0.1581629510037601, 0.6268401963170618, 0.8146734042093158, 0.24103000503964722, 0.2371738243382424, 0.7516659996472299, 0.7588857018854469, 0.24311877880245447, 0.754294227110222, 0.8316251267679036, 0.6607115678489208, 0.6691388583276421, 0.18645111797377467]\n"
     ]
    }
   ],
   "source": [
    "\n",
    "# If you managed to solve all three parts you can test the following code to see if it runs\n",
    "# you have to change the period to match your LCG though, this is marked as XXX.\n",
    "# It is a very good idea to check these things using the histogram function in sagemath\n",
    "# try with a larger number of samples, up to 10000 should run\n",
    "\n",
    "print(\"LCG output: %s\" % problem4_LCG(size=10, seed = 1))\n",
    "\n",
    "period = m\n",
    "\n",
    "print(\"Uniform sampler %s\" % problem4_uniform(generator=problem4_LCG, period = period, size=10, seed=1))\n",
    "\n",
    "uniform_sampler = lambda size,seed: problem4_uniform(generator=problem4_LCG, period = period, size=size, seed=seed)\n",
    "\n",
    "print(\"Accept-Reject sampler %s\" % problem4_accept_reject(uniformGenerator = uniform_sampler,n_iterations=20,seed=1))"
   ]
  },
  {
   "cell_type": "code",
   "execution_count": 15,
   "id": "5318f370",
   "metadata": {
    "deletable": false,
    "execution": {
     "iopub.execute_input": "2024-11-08T14:09:04.581213Z",
     "iopub.status.busy": "2024-11-08T14:09:04.580749Z",
     "iopub.status.idle": "2024-11-08T14:09:04.586585Z",
     "shell.execute_reply": "2024-11-08T14:09:04.585779Z"
    },
    "lx_assignment_number": "2",
    "lx_assignment_type": "ASSIGNMENT",
    "lx_assignment_type2print": "Assignment",
    "lx_problem_cell_type": "Test",
    "lx_problem_number": "4",
    "lx_problem_points": "8"
   },
   "outputs": [
    {
     "name": "stdout",
     "output_type": "stream",
     "text": [
      "Accept-Reject sampler [0.763774618976614, 0.2550690257394217, 0.651592972722763, 0.7887233511355132, 0.8357651039198697, 0.43276706790505337, 0.762280082457942, 0.22876222127045265, 0.9014274576114836, 0.23796462709189137, 0.5442292252959519, 0.36995516654807925, 0.6039200385961945, 0.625720304108054, 0.83746908209646, 0.25935401432800764, 0.23433096104669637, 0.8364614512743888, 0.47635320869933495, 0.6390681405441619, 0.7412518562014903]\n"
     ]
    }
   ],
   "source": [
    "\n",
    "# If however you did not manage to implement either part 1 or part 2 but still want to check part 3, you can run the code below\n",
    "\n",
    "def testUniformGenerator(size,seed):\n",
    "    import random\n",
    "    random.seed(seed)\n",
    "    \n",
    "    return [random.uniform(0,1) for s in range(size)]\n",
    "\n",
    "print(\"Accept-Reject sampler %s\" % problem4_accept_reject(uniformGenerator=testUniformGenerator, n_iterations=20, seed=1))"
   ]
  },
  {
   "cell_type": "code",
   "execution_count": 16,
   "id": "ea8b5fd4",
   "metadata": {
    "deletable": false,
    "execution": {
     "iopub.execute_input": "2024-11-08T14:09:04.592117Z",
     "iopub.status.busy": "2024-11-08T14:09:04.591534Z",
     "iopub.status.idle": "2024-11-08T14:09:06.080271Z",
     "shell.execute_reply": "2024-11-08T14:09:06.079360Z"
    },
    "lx_assignment_number": "2",
    "lx_assignment_type": "ASSIGNMENT",
    "lx_assignment_type2print": "Assignment",
    "lx_problem_cell_type": "TEST",
    "lx_problem_number": "4",
    "lx_problem_points": "8",
    "lx_test_only": "True",
    "scrolled": true
   },
   "outputs": [
    {
     "data": {
      "image/png": "[encoded data removed]",
      "text/plain": [
       "<Figure size 432x288 with 1 Axes>"
      ]
     },
     "metadata": {
      "needs_background": "light"
     },
     "output_type": "display_data"
    },
    {
     "data": {
      "image/png": "[encoded data removed]",
      "text/plain": [
       "<Figure size 432x288 with 1 Axes>"
      ]
     },
     "metadata": {
      "needs_background": "light"
     },
     "output_type": "display_data"
    },
    {
     "name": "stdout",
     "output_type": "stream",
     "text": [
      "Beginning tests for problem 3\n",
      "\n",
      "---------------------------------\n",
      "Beginning test for part1\n",
      "---------------------------------\n",
      "\n",
      "-----Beginning test------\n",
      "LCG outputs correct size\n",
      "-----Ending test---------\n",
      "\n",
      "-----Beginning test------\n",
      "Your period is at least longer than 1000\n",
      "-----Ending test---------\n",
      "\n",
      "---------------------------------\n",
      "Beginning test for part2\n",
      "---------------------------------\n",
      "\n",
      "-----Beginning test------\n",
      "problem4_uniform outputs correct size\n",
      "-----Ending test---------\n",
      "\n",
      "-----Beginning test------\n",
      "\n",
      "Your uniform sampler does not seem to produce the correct uniform distribution\n",
      "You got 0.5 points deduction \n",
      "-----Ending test---------\n",
      "\n",
      "-----Beginning test------\n",
      "The output of problem4_uniform is greater than 0\n",
      "-----Ending test---------\n",
      "\n",
      "-----Beginning test------\n",
      "The output of problem4_uniform is less than 1\n",
      "-----Ending test---------\n",
      "\n",
      "---------------------------------\n",
      "Beginning test for part3\n",
      "---------------------------------\n",
      "\n",
      "-----Beginning test------\n",
      "The accept-reject sampler runs with your LCG sampler and produces unique results\n",
      "-----Ending test---------\n",
      "\n",
      "-----Beginning test------\n",
      "The accept-reject sampler runs with your LCG sampler and produces numbers between 0 and 1\n",
      "-----Ending test---------\n",
      "\n",
      "-----Beginning test------\n",
      "The accept-reject sampler runs with a plug in sampler and produces numbers between 0 and 1\n",
      "-----Ending test---------\n",
      "\n",
      "-----Beginning test------\n",
      "The accept-reject sampler produces unique results with the plug-in sampler\n",
      "-----Ending test---------\n",
      "\n",
      "-----Beginning test------\n",
      "The accept-reject sampler seems to produce the correct distribution, within tolerance!\n",
      "-----Ending test---------\n",
      "\n",
      "\n",
      "All tests complete, you got = 8 points\n",
      "The number of points you have scored for this problem is 8 out of 8\n",
      " \n",
      " \n",
      " \n",
      "The number of points you have scored in total for this entire set of Problems is 22 out of 24\n"
     ]
    }
   ],
   "source": [
    "# ASSIGNMENT 2, TEST 4, POINTS 8"
   ]
  },
  {
   "cell_type": "markdown",
   "id": "9c9056d9",
   "metadata": {},
   "source": [
    "The number of points you have scored in total for this entire set of Problems is 22 out of 24."
   ]
  }
 ],
 "metadata": {
  "kernelspec": {
   "display_name": "venv",
   "language": "python",
   "name": "python3"
  },
  "language_info": {
   "codemirror_mode": {
    "name": "ipython",
    "version": 3
   },
   "file_extension": ".py",
   "mimetype": "text/x-python",
   "name": "python",
   "nbconvert_exporter": "python",
   "pygments_lexer": "ipython3",
   "version": "3.12.3"
  },
  "lx_assignment_number": 2,
  "lx_course_instance": "2024",
  "lx_course_name": "Introduction to Data Science",
  "lx_course_number": "1MS041"
 },
 "nbformat": 4,
 "nbformat_minor": 5
}
